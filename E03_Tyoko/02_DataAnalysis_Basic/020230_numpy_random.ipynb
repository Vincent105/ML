{
 "metadata": {
  "language_info": {
   "codemirror_mode": {
    "name": "ipython",
    "version": 3
   },
   "file_extension": ".py",
   "mimetype": "text/x-python",
   "name": "python",
   "nbconvert_exporter": "python",
   "pygments_lexer": "ipython3",
   "version": "3.8.3-final"
  },
  "orig_nbformat": 2,
  "kernelspec": {
   "name": "Python 3.8.3 64-bit ('base': conda)",
   "display_name": "Python 3.8.3 64-bit ('base': conda)",
   "metadata": {
    "interpreter": {
     "hash": "97ae724bfa85b9b34df7982b8bb8c7216f435b92902d749e4263f71162bea840"
    }
   }
  }
 },
 "nbformat": 4,
 "nbformat_minor": 2,
 "cells": [
  {
   "cell_type": "code",
   "execution_count": 13,
   "metadata": {
    "tags": []
   },
   "outputs": [
    {
     "output_type": "stream",
     "name": "stdout",
     "text": "randn: [ 1.764  0.4    0.979  2.241  1.868 -0.977  0.95  -0.151 -0.103  0.411]\nrand: [0.792 0.529 0.568 0.926 0.071 0.087 0.02  0.833 0.778 0.87 ]\nrandom_sample: [0.979 0.799 0.461 0.781 0.118 0.64  0.143 0.945 0.522 0.415]\nrandint: 3\nnormal: 10.59124280628426\n"
    }
   ],
   "source": [
    "import numpy as np \n",
    "import numpy.random as random\n",
    "%precision 3\n",
    "\n",
    "random.seed(0)\n",
    "\n",
    "rnd_data1 = random.randn(10)\n",
    "rnd_data2 = random.rand(10)\n",
    "rnd_data3 = random.random_sample(10)\n",
    "rnd_data4 = random.randint(10)\n",
    "rnd_data5 = random.normal(10)\n",
    "print('randn:',rnd_data1)\n",
    "print('rand:',rnd_data2)\n",
    "print('random_sample:',rnd_data3)\n",
    "print('randint:',rnd_data4)\n",
    "print('normal:',rnd_data5)\n"
   ]
  },
  {
   "cell_type": "code",
   "execution_count": 14,
   "metadata": {
    "tags": []
   },
   "outputs": [
    {
     "output_type": "stream",
     "name": "stdout",
     "text": "[ 3  9  9 10  6  6  7  1 10  2]\n[ 9  5  3  4  6  7  8  2  1 10]\n"
    }
   ],
   "source": [
    "data = np.array([9, 2, 3, 4, 10, 6, 7, 8, 1, 5])\n",
    "\n",
    "## 隨機取出，取出10個(允許重複，放回抽樣)\n",
    "print(random.choice(data, 10))\n",
    "print(random.choice(data, 10 , replace=False))"
   ]
  }
 ]
}
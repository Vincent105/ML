{
 "metadata": {
  "language_info": {
   "codemirror_mode": {
    "name": "ipython",
    "version": 3
   },
   "file_extension": ".py",
   "mimetype": "text/x-python",
   "name": "python",
   "nbconvert_exporter": "python",
   "pygments_lexer": "ipython3",
   "version": "3.8.3-final"
  },
  "orig_nbformat": 2,
  "kernelspec": {
   "name": "Python 3.8.3 64-bit ('base': conda)",
   "display_name": "Python 3.8.3 64-bit ('base': conda)",
   "metadata": {
    "interpreter": {
     "hash": "97ae724bfa85b9b34df7982b8bb8c7216f435b92902d749e4263f71162bea840"
    }
   }
  }
 },
 "nbformat": 4,
 "nbformat_minor": 2,
 "cells": [
  {
   "cell_type": "code",
   "execution_count": 72,
   "metadata": {},
   "outputs": [
    {
     "output_type": "execute_result",
     "data": {
      "text/plain": "&#39;%.3f&#39;"
     },
     "metadata": {},
     "execution_count": 72
    }
   ],
   "source": [
    "import numpy as np \n",
    "%precision 3"
   ]
  },
  {
   "cell_type": "code",
   "execution_count": 73,
   "metadata": {},
   "outputs": [
    {
     "output_type": "execute_result",
     "data": {
      "text/plain": "array([ 9,  2,  3,  4, 10,  6,  7,  8,  1,  5])"
     },
     "metadata": {},
     "execution_count": 73
    }
   ],
   "source": [
    "data = np.array([9, 2, 3, 4, 10, 6, 7, 8, 1, 5])\n",
    "data"
   ]
  },
  {
   "cell_type": "code",
   "execution_count": 74,
   "metadata": {},
   "outputs": [
    {
     "output_type": "execute_result",
     "data": {
      "text/plain": "dtype(&#39;int32&#39;)"
     },
     "metadata": {},
     "execution_count": 74
    }
   ],
   "source": [
    "data.dtype"
   ]
  },
  {
   "cell_type": "code",
   "execution_count": 75,
   "metadata": {
    "tags": []
   },
   "outputs": [
    {
     "output_type": "stream",
     "name": "stdout",
     "text": "陣列的緯度: 1\n陣列的元素: 10\n"
    }
   ],
   "source": [
    "print(\"陣列的緯度:\", data.ndim)\n",
    "print(\"陣列的元素:\", data.size)"
   ]
  },
  {
   "cell_type": "code",
   "execution_count": 76,
   "metadata": {
    "tags": []
   },
   "outputs": [
    {
     "output_type": "stream",
     "name": "stdout",
     "text": "[18  4  6  8 20 12 14 16  2 10]\n乘法運算 [  1   4   9  16  25  36  49  64  81 100]\n連乘 [  1   4   9  16  25  36  49  64  81 100]\n除法運算 [1. 1. 1. 1. 1. 1. 1. 1. 1. 1.]\n"
    }
   ],
   "source": [
    "print(data * 2)\n",
    "print('乘法運算', np.array([1, 2, 3, 4, 5, 6, 7, 8, 9, 10]) *np.array([1, 2, 3, 4, 5, 6, 7, 8, 9, 10]) )\n",
    "print('連乘', np.array([1, 2, 3, 4, 5, 6, 7, 8, 9, 10]) ** 2)\n",
    "print('除法運算', np.array([1, 2, 3, 4, 5, 6, 7, 8, 9, 10]) /np.array([1, 2, 3, 4, 5, 6, 7, 8, 9, 10]) )"
   ]
  },
  {
   "cell_type": "code",
   "execution_count": 77,
   "metadata": {
    "tags": []
   },
   "outputs": [
    {
     "output_type": "stream",
     "name": "stdout",
     "text": "原本的陣列： [ 9  2  3  4 10  6  7  8  1  5]\n後來的陣列： [ 1  2  3  4  5  6  7  8  9 10]\n"
    }
   ],
   "source": [
    "print('原本的陣列：', data)\n",
    "data.sort()\n",
    "print('後來的陣列：', data)"
   ]
  },
  {
   "cell_type": "code",
   "execution_count": 78,
   "metadata": {
    "tags": []
   },
   "outputs": [
    {
     "output_type": "stream",
     "name": "stdout",
     "text": "後來的陣列： [10  9  8  7  6  5  4  3  2  1]\n"
    }
   ],
   "source": [
    "data[::-1].sort()\n",
    "print('後來的陣列：', data)"
   ]
  },
  {
   "cell_type": "code",
   "execution_count": 85,
   "metadata": {
    "tags": []
   },
   "outputs": [
    {
     "output_type": "stream",
     "name": "stdout",
     "text": "Min: 1\nMax: 10\nSum: 55\nCum: [10 19 27 34 40 45 49 52 54 55]\nRatio: [0.182 0.345 0.491 0.618 0.727 0.818 0.891 0.945 0.982 1.   ]\n"
    }
   ],
   "source": [
    "print('Min:', min(data))\n",
    "print('Max:', max(data))\n",
    "print('Sum:', sum(data))\n",
    "print('Cum:', data.cumsum())    ##累積和\n",
    "print('Ratio:', data.cumsum() / data.sum())"
   ]
  },
  {
   "cell_type": "code",
   "execution_count": null,
   "metadata": {},
   "outputs": [],
   "source": []
  }
 ]
}
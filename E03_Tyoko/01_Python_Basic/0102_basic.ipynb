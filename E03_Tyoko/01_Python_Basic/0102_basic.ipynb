{
 "metadata": {
  "language_info": {
   "codemirror_mode": {
    "name": "ipython",
    "version": 3
   },
   "file_extension": ".py",
   "mimetype": "text/x-python",
   "name": "python",
   "nbconvert_exporter": "python",
   "pygments_lexer": "ipython3",
   "version": "3.8.3-final"
  },
  "orig_nbformat": 2,
  "kernelspec": {
   "name": "Python 3.8.3 64-bit ('base': conda)",
   "display_name": "Python 3.8.3 64-bit ('base': conda)",
   "metadata": {
    "interpreter": {
     "hash": "97ae724bfa85b9b34df7982b8bb8c7216f435b92902d749e4263f71162bea840"
    }
   }
  }
 },
 "nbformat": 4,
 "nbformat_minor": 2,
 "cells": [
  {
   "source": [
    "print(1 + 1)"
   ],
   "cell_type": "code",
   "metadata": {
    "tags": []
   },
   "execution_count": 1,
   "outputs": [
    {
     "output_type": "stream",
     "name": "stdout",
     "text": "2\n"
    }
   ]
  },
  {
   "cell_type": "code",
   "execution_count": 2,
   "metadata": {
    "tags": []
   },
   "outputs": [
    {
     "output_type": "stream",
     "name": "stdout",
     "text": "10\n"
    }
   ],
   "source": [
    "print( 2 * 5)"
   ]
  },
  {
   "source": [
    "msg = 'test'\n",
    "print(msg)"
   ],
   "cell_type": "code",
   "metadata": {
    "tags": []
   },
   "execution_count": 3,
   "outputs": [
    {
     "output_type": "stream",
     "name": "stdout",
     "text": "test\n"
    }
   ]
  },
  {
   "cell_type": "code",
   "execution_count": 7,
   "metadata": {},
   "outputs": [
    {
     "output_type": "execute_result",
     "data": {
      "text/plain": "&#39;test&#39;"
     },
     "metadata": {},
     "execution_count": 7
    }
   ],
   "source": [
    "msg[0] + msg[1] + msg[2] + msg[3]"
   ]
  },
  {
   "cell_type": "code",
   "execution_count": 8,
   "metadata": {},
   "outputs": [
    {
     "output_type": "error",
     "ename": "IndexError",
     "evalue": "string index out of range",
     "traceback": [
      "\u001b[1;31m---------------------------------------------------------------------------\u001b[0m",
      "\u001b[1;31mIndexError\u001b[0m                                Traceback (most recent call last)",
      "\u001b[1;32m&lt;ipython-input-8-3c3f3c907ca3&gt;\u001b[0m in \u001b[0;36m&lt;module&gt;\u001b[1;34m\u001b[0m\n\u001b[1;32m----&gt; 1\u001b[1;33m \u001b[0mmsg\u001b[0m\u001b[1;33m[\u001b[0m\u001b[1;36m5\u001b[0m\u001b[1;33m]\u001b[0m\u001b[1;33m\u001b[0m\u001b[1;33m\u001b[0m\u001b[0m\n\u001b[0m",
      "\u001b[1;31mIndexError\u001b[0m: string index out of range"
     ]
    }
   ],
   "source": [
    "msg[5]"
   ]
  },
  {
   "cell_type": "code",
   "execution_count": 9,
   "metadata": {
    "tags": []
   },
   "outputs": [
    {
     "output_type": "stream",
     "name": "stdout",
     "text": "1\n"
    }
   ],
   "source": [
    "## 指定資料1給變數data\n",
    "data = 1 \n",
    "print(data)"
   ]
  },
  {
   "cell_type": "code",
   "execution_count": 11,
   "metadata": {
    "tags": []
   },
   "outputs": [
    {
     "output_type": "stream",
     "name": "stdout",
     "text": "11\n"
    }
   ],
   "source": [
    "##將上面的數字加上10\n",
    "data = data + 10 \n",
    "print(data)"
   ]
  },
  {
   "cell_type": "code",
   "execution_count": 14,
   "metadata": {},
   "outputs": [
    {
     "output_type": "execute_result",
     "data": {
      "text/plain": "[&#39;False&#39;,\n &#39;None&#39;,\n &#39;True&#39;,\n &#39;and&#39;,\n &#39;as&#39;,\n &#39;assert&#39;,\n &#39;async&#39;,\n &#39;await&#39;,\n &#39;break&#39;,\n &#39;class&#39;,\n &#39;continue&#39;,\n &#39;def&#39;,\n &#39;del&#39;,\n &#39;elif&#39;,\n &#39;else&#39;,\n &#39;except&#39;,\n &#39;finally&#39;,\n &#39;for&#39;,\n &#39;from&#39;,\n &#39;global&#39;,\n &#39;if&#39;,\n &#39;import&#39;,\n &#39;in&#39;,\n &#39;is&#39;,\n &#39;lambda&#39;,\n &#39;nonlocal&#39;,\n &#39;not&#39;,\n &#39;or&#39;,\n &#39;pass&#39;,\n &#39;raise&#39;,\n &#39;return&#39;,\n &#39;try&#39;,\n &#39;while&#39;,\n &#39;with&#39;,\n &#39;yield&#39;]"
     },
     "metadata": {},
     "execution_count": 14
    }
   ],
   "source": [
    "__import__('keyword').kwlist"
   ]
  },
  {
   "cell_type": "code",
   "execution_count": 15,
   "metadata": {},
   "outputs": [
    {
     "output_type": "execute_result",
     "data": {
      "text/plain": "[&#39;ArithmeticError&#39;,\n &#39;AssertionError&#39;,\n &#39;AttributeError&#39;,\n &#39;BaseException&#39;,\n &#39;BlockingIOError&#39;,\n &#39;BrokenPipeError&#39;,\n &#39;BufferError&#39;,\n &#39;BytesWarning&#39;,\n &#39;ChildProcessError&#39;,\n &#39;ConnectionAbortedError&#39;,\n &#39;ConnectionError&#39;,\n &#39;ConnectionRefusedError&#39;,\n &#39;ConnectionResetError&#39;,\n &#39;DeprecationWarning&#39;,\n &#39;EOFError&#39;,\n &#39;Ellipsis&#39;,\n &#39;EnvironmentError&#39;,\n &#39;Exception&#39;,\n &#39;False&#39;,\n &#39;FileExistsError&#39;,\n &#39;FileNotFoundError&#39;,\n &#39;FloatingPointError&#39;,\n &#39;FutureWarning&#39;,\n &#39;GeneratorExit&#39;,\n &#39;IOError&#39;,\n &#39;ImportError&#39;,\n &#39;ImportWarning&#39;,\n &#39;IndentationError&#39;,\n &#39;IndexError&#39;,\n &#39;InterruptedError&#39;,\n &#39;IsADirectoryError&#39;,\n &#39;KeyError&#39;,\n &#39;KeyboardInterrupt&#39;,\n &#39;LookupError&#39;,\n &#39;MemoryError&#39;,\n &#39;ModuleNotFoundError&#39;,\n &#39;NameError&#39;,\n &#39;None&#39;,\n &#39;NotADirectoryError&#39;,\n &#39;NotImplemented&#39;,\n &#39;NotImplementedError&#39;,\n &#39;OSError&#39;,\n &#39;OverflowError&#39;,\n &#39;PendingDeprecationWarning&#39;,\n &#39;PermissionError&#39;,\n &#39;ProcessLookupError&#39;,\n &#39;RecursionError&#39;,\n &#39;ReferenceError&#39;,\n &#39;ResourceWarning&#39;,\n &#39;RuntimeError&#39;,\n &#39;RuntimeWarning&#39;,\n &#39;StopAsyncIteration&#39;,\n &#39;StopIteration&#39;,\n &#39;SyntaxError&#39;,\n &#39;SyntaxWarning&#39;,\n &#39;SystemError&#39;,\n &#39;SystemExit&#39;,\n &#39;TabError&#39;,\n &#39;TimeoutError&#39;,\n &#39;True&#39;,\n &#39;TypeError&#39;,\n &#39;UnboundLocalError&#39;,\n &#39;UnicodeDecodeError&#39;,\n &#39;UnicodeEncodeError&#39;,\n &#39;UnicodeError&#39;,\n &#39;UnicodeTranslateError&#39;,\n &#39;UnicodeWarning&#39;,\n &#39;UserWarning&#39;,\n &#39;ValueError&#39;,\n &#39;Warning&#39;,\n &#39;WindowsError&#39;,\n &#39;ZeroDivisionError&#39;,\n &#39;__IPYTHON__&#39;,\n &#39;__build_class__&#39;,\n &#39;__debug__&#39;,\n &#39;__doc__&#39;,\n &#39;__import__&#39;,\n &#39;__loader__&#39;,\n &#39;__name__&#39;,\n &#39;__package__&#39;,\n &#39;__spec__&#39;,\n &#39;abs&#39;,\n &#39;all&#39;,\n &#39;any&#39;,\n &#39;ascii&#39;,\n &#39;bin&#39;,\n &#39;bool&#39;,\n &#39;breakpoint&#39;,\n &#39;bytearray&#39;,\n &#39;bytes&#39;,\n &#39;callable&#39;,\n &#39;chr&#39;,\n &#39;classmethod&#39;,\n &#39;compile&#39;,\n &#39;complex&#39;,\n &#39;copyright&#39;,\n &#39;credits&#39;,\n &#39;delattr&#39;,\n &#39;dict&#39;,\n &#39;dir&#39;,\n &#39;display&#39;,\n &#39;divmod&#39;,\n &#39;enumerate&#39;,\n &#39;eval&#39;,\n &#39;exec&#39;,\n &#39;filter&#39;,\n &#39;float&#39;,\n &#39;format&#39;,\n &#39;frozenset&#39;,\n &#39;get_ipython&#39;,\n &#39;getattr&#39;,\n &#39;globals&#39;,\n &#39;hasattr&#39;,\n &#39;hash&#39;,\n &#39;help&#39;,\n &#39;hex&#39;,\n &#39;id&#39;,\n &#39;input&#39;,\n &#39;int&#39;,\n &#39;isinstance&#39;,\n &#39;issubclass&#39;,\n &#39;iter&#39;,\n &#39;len&#39;,\n &#39;license&#39;,\n &#39;list&#39;,\n &#39;locals&#39;,\n &#39;map&#39;,\n &#39;max&#39;,\n &#39;memoryview&#39;,\n &#39;min&#39;,\n &#39;next&#39;,\n &#39;object&#39;,\n &#39;oct&#39;,\n &#39;open&#39;,\n &#39;ord&#39;,\n &#39;pow&#39;,\n &#39;print&#39;,\n &#39;property&#39;,\n &#39;range&#39;,\n &#39;repr&#39;,\n &#39;reversed&#39;,\n &#39;round&#39;,\n &#39;set&#39;,\n &#39;setattr&#39;,\n &#39;slice&#39;,\n &#39;sorted&#39;,\n &#39;staticmethod&#39;,\n &#39;str&#39;,\n &#39;sum&#39;,\n &#39;super&#39;,\n &#39;tuple&#39;,\n &#39;type&#39;,\n &#39;vars&#39;,\n &#39;zip&#39;]"
     },
     "metadata": {},
     "execution_count": 15
    }
   ],
   "source": [
    "dir(__builtin__)"
   ]
  }
 ]
}
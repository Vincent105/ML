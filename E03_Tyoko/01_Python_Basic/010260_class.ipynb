{
 "metadata": {
  "language_info": {
   "codemirror_mode": {
    "name": "ipython",
    "version": 3
   },
   "file_extension": ".py",
   "mimetype": "text/x-python",
   "name": "python",
   "nbconvert_exporter": "python",
   "pygments_lexer": "ipython3",
   "version": "3.8.3-final"
  },
  "orig_nbformat": 2,
  "kernelspec": {
   "name": "Python 3.8.3 64-bit ('base': conda)",
   "display_name": "Python 3.8.3 64-bit ('base': conda)",
   "metadata": {
    "interpreter": {
     "hash": "97ae724bfa85b9b34df7982b8bb8c7216f435b92902d749e4263f71162bea840"
    }
   }
  }
 },
 "nbformat": 4,
 "nbformat_minor": 2,
 "cells": [
  {
   "cell_type": "code",
   "execution_count": 7,
   "metadata": {
    "tags": []
   },
   "outputs": [
    {
     "output_type": "stream",
     "name": "stdout",
     "text": "10 100\n100\n"
    }
   ],
   "source": [
    "class PrintClass:                   ##建立類別\n",
    "    def print_me(self):             ##建立函式\n",
    "        print(self.x , self.y)\n",
    "\n",
    "p1 = PrintClass()\n",
    "p1.x=10\n",
    "p1.y=100\n",
    "p1.z=100\n",
    "\n",
    "p1.print_me()\n",
    "print(p1.z)"
   ]
  },
  {
   "cell_type": "code",
   "execution_count": 19,
   "metadata": {},
   "outputs": [],
   "source": [
    "class MyCalcClass:\n",
    "    def __init__(self, x, y):\n",
    "        self.x = x\n",
    "        self.y = y \n",
    "    def calc_add(self, a, b):\n",
    "        return a + b\n",
    "    def calc_add2(self):\n",
    "        return self.x + self.y \n",
    "    def calc_add3(self, a, b):\n",
    "        return self.x + self.y + a + b         \n",
    "    def calc_multi(self, a, b):\n",
    "        return a * b\n",
    "    def calc_print(self, a):\n",
    "        print('data{0}:y之數值{1}'.format(a, self.y))\n",
    "\n",
    "instance1 = MyCalcClass(1, 2)\n",
    "instance2 = MyCalcClass(5, 10)"
   ]
  },
  {
   "cell_type": "code",
   "execution_count": 22,
   "metadata": {
    "tags": []
   },
   "outputs": [
    {
     "output_type": "stream",
     "name": "stdout",
     "text": "8\n3\n21\n15\ndata3:y之數值2\nNone\n"
    }
   ],
   "source": [
    "print(instance1.calc_add(5,3))\n",
    "print(instance1.calc_add2())\n",
    "print(instance1.calc_add3(9, 9))\n",
    "print(instance1.calc_multi(5, 3))\n",
    "print(instance1.calc_print(3))"
   ]
  },
  {
   "cell_type": "code",
   "execution_count": 23,
   "metadata": {
    "tags": []
   },
   "outputs": [
    {
     "output_type": "stream",
     "name": "stdout",
     "text": "8\n15\n33\n15\ndata3:y之數值10\nNone\n"
    }
   ],
   "source": [
    "print(instance2.calc_add(5,3))\n",
    "print(instance2.calc_add2())\n",
    "print(instance2.calc_add3(9, 9))\n",
    "print(instance2.calc_multi(5, 3))\n",
    "print(instance2.calc_print(3))"
   ]
  }
 ]
}
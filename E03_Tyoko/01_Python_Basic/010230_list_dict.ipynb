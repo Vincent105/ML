{
 "metadata": {
  "language_info": {
   "codemirror_mode": {
    "name": "ipython",
    "version": 3
   },
   "file_extension": ".py",
   "mimetype": "text/x-python",
   "name": "python",
   "nbconvert_exporter": "python",
   "pygments_lexer": "ipython3",
   "version": "3.8.3-final"
  },
  "orig_nbformat": 2,
  "kernelspec": {
   "name": "Python 3.8.3 64-bit ('base': conda)",
   "display_name": "Python 3.8.3 64-bit ('base': conda)",
   "metadata": {
    "interpreter": {
     "hash": "97ae724bfa85b9b34df7982b8bb8c7216f435b92902d749e4263f71162bea840"
    }
   }
  }
 },
 "nbformat": 4,
 "nbformat_minor": 2,
 "cells": [
  {
   "cell_type": "code",
   "execution_count": 22,
   "metadata": {
    "tags": []
   },
   "outputs": [
    {
     "output_type": "stream",
     "name": "stdout",
     "text": "[1, 2, 3, 4, 5, 6, 7, 8, 9, 10]\n變數的類別: &lt;class &#39;list&#39;&gt;\n取出第1個元素，由於從序號0開始取: 2\n元素的數量: 10\n"
    }
   ],
   "source": [
    "data_list = [1, 2, 3, 4, 5, 6, 7, 8, 9, 10]\n",
    "print(data_list)\n",
    "print('變數的類別:', type(data_list))\n",
    "print('取出第1個元素，由於從序號0開始取:', data_list[1])\n",
    "print('元素的數量:', len(data_list))"
   ]
  },
  {
   "cell_type": "code",
   "execution_count": 15,
   "metadata": {
    "tags": []
   },
   "outputs": [
    {
     "output_type": "stream",
     "name": "stdout",
     "text": "[1, 2, 3, 4, 5, 6, 7, 8, 9, 10, 1, 2, 3, 4, 5, 6, 7, 8, 9, 10]\n"
    }
   ],
   "source": [
    "data_list_double = data_list * 2 \n",
    "print(data_list_double)"
   ]
  },
  {
   "cell_type": "code",
   "execution_count": 23,
   "metadata": {
    "tags": []
   },
   "outputs": [
    {
     "output_type": "stream",
     "name": "stdout",
     "text": "[1, 2, 4, 5, 6, 7, 8, 9, 10]\n"
    }
   ],
   "source": [
    "data_list.pop(2)\n",
    "print(data_list)"
   ]
  },
  {
   "cell_type": "code",
   "execution_count": 24,
   "metadata": {
    "tags": []
   },
   "outputs": [
    {
     "output_type": "stream",
     "name": "stdout",
     "text": "[1, 2, 4, 5, 6, 7, 8, 9, 10, &#39;2&#39;]\n"
    }
   ],
   "source": [
    "data_list.append('2')\n",
    "print(data_list)"
   ]
  },
  {
   "cell_type": "code",
   "execution_count": 25,
   "metadata": {
    "tags": []
   },
   "outputs": [
    {
     "output_type": "stream",
     "name": "stdout",
     "text": "[1, 2, 4, 5, 6, 7, 8, 9, 10]\n"
    }
   ],
   "source": [
    "data_list.remove('2')\n",
    "print(data_list)"
   ]
  },
  {
   "cell_type": "code",
   "execution_count": 27,
   "metadata": {
    "tags": []
   },
   "outputs": [
    {
     "output_type": "stream",
     "name": "stdout",
     "text": "[1, 2, 4, 5, 7, 8, 9, 10]\n"
    }
   ],
   "source": [
    "del data_list[4]\n",
    "print(data_list)"
   ]
  },
  {
   "source": [
    "字典型別"
   ],
   "cell_type": "markdown",
   "metadata": {}
  },
  {
   "cell_type": "code",
   "execution_count": 33,
   "metadata": {
    "tags": []
   },
   "outputs": [
    {
     "output_type": "stream",
     "name": "stdout",
     "text": "100\n300\n"
    }
   ],
   "source": [
    "dict_data = {'apple':100, 'banana':200, 'melon':1000}\n",
    "print(dict_data['apple'])\n",
    "print(dict_data['apple'] + dict_data['banana'])"
   ]
  },
  {
   "cell_type": "code",
   "execution_count": 34,
   "metadata": {
    "tags": []
   },
   "outputs": [
    {
     "output_type": "stream",
     "name": "stdout",
     "text": "{&#39;apple&#39;: 100, &#39;banana&#39;: 200, &#39;melon&#39;: 1000, &#39;mango&#39;: 400}\n{&#39;apple&#39;: 100, &#39;banana&#39;: 200, &#39;melon&#39;: 1000}\n"
    }
   ],
   "source": [
    "dict_data['mango'] = 400\n",
    "print(dict_data)\n",
    "del dict_data['mango']\n",
    "print(dict_data)"
   ]
  },
  {
   "cell_type": "code",
   "execution_count": null,
   "metadata": {},
   "outputs": [],
   "source": []
  }
 ]
}
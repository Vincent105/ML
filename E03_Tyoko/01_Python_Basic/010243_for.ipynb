{
 "metadata": {
  "language_info": {
   "codemirror_mode": {
    "name": "ipython",
    "version": 3
   },
   "file_extension": ".py",
   "mimetype": "text/x-python",
   "name": "python",
   "nbconvert_exporter": "python",
   "pygments_lexer": "ipython3",
   "version": "3.8.3-final"
  },
  "orig_nbformat": 2,
  "kernelspec": {
   "name": "Python 3.8.3 64-bit ('base': conda)",
   "display_name": "Python 3.8.3 64-bit ('base': conda)",
   "metadata": {
    "interpreter": {
     "hash": "97ae724bfa85b9b34df7982b8bb8c7216f435b92902d749e4263f71162bea840"
    }
   }
  }
 },
 "nbformat": 4,
 "nbformat_minor": 2,
 "cells": [
  {
   "cell_type": "code",
   "execution_count": 2,
   "metadata": {
    "tags": []
   },
   "outputs": [
    {
     "output_type": "stream",
     "name": "stdout",
     "text": "num= 1\nnum= 2\nnum= 3\nTotal= 6\n"
    }
   ],
   "source": [
    "total = 0 \n",
    "\n",
    "for num in [1, 2, 3]:\n",
    "    print(\"num=\", num)\n",
    "    total += num\n",
    "print(\"Total=\",total)"
   ]
  },
  {
   "cell_type": "code",
   "execution_count": 6,
   "metadata": {
    "tags": []
   },
   "outputs": [
    {
     "output_type": "stream",
     "name": "stdout",
     "text": "apple 100\nbanana 200\nmelon 1000\n"
    }
   ],
   "source": [
    "dict_data = {'apple':100, 'banana':200, 'melon':1000}\n",
    "for dict_key in dict_data:\n",
    "    print(dict_key, dict_data[dict_key])"
   ]
  },
  {
   "cell_type": "code",
   "execution_count": 8,
   "metadata": {
    "tags": []
   },
   "outputs": [
    {
     "output_type": "stream",
     "name": "stdout",
     "text": "0\n1\n2\n3\n4\n5\n6\n7\n8\n9\n10\n"
    }
   ],
   "source": [
    "for i in range(11):\n",
    "    print(i)"
   ]
  },
  {
   "cell_type": "code",
   "execution_count": 9,
   "metadata": {
    "tags": []
   },
   "outputs": [
    {
     "output_type": "stream",
     "name": "stdout",
     "text": "1\n3\n5\n7\n9\n"
    }
   ],
   "source": [
    "for i in range(1, 10, 2):\n",
    "    print(i)"
   ]
  },
  {
   "cell_type": "code",
   "execution_count": 11,
   "metadata": {
    "tags": []
   },
   "outputs": [
    {
     "output_type": "stream",
     "name": "stdout",
     "text": "apple 100\nbanana 200\nmelon 1000\n"
    }
   ],
   "source": [
    "for key, value in dict_data.items():\n",
    "    print(key, value)"
   ]
  },
  {
   "source": [
    "List Comprehension"
   ],
   "cell_type": "markdown",
   "metadata": {}
  },
  {
   "cell_type": "code",
   "execution_count": 13,
   "metadata": {
    "tags": []
   },
   "outputs": [
    {
     "output_type": "stream",
     "name": "stdout",
     "text": "[2, 4, 6, 8, 10, 12, 14, 16, 18, 20]\n[4, 8, 12, 16, 20]\n"
    }
   ],
   "source": [
    "data_list = [1, 2, 3, 4, 5, 6, 7, 8, 9, 10]\n",
    "data_list1 = []\n",
    "\n",
    "data_list1 = [i * 2 for i in data_list]\n",
    "print(data_list1)\n",
    "data_list1 = [i * 2 for i in data_list if i % 2 == 0]\n",
    "print(data_list1)"
   ]
  },
  {
   "source": [
    "Zip"
   ],
   "cell_type": "markdown",
   "metadata": {}
  },
  {
   "cell_type": "code",
   "execution_count": 14,
   "metadata": {
    "tags": []
   },
   "outputs": [
    {
     "output_type": "stream",
     "name": "stdout",
     "text": "1 4\n2 5\n3 6\n"
    }
   ],
   "source": [
    "for one, two in zip([1, 2, 3],[4, 5, 6]):\n",
    "    print(one, two)"
   ]
  },
  {
   "source": [
    "while"
   ],
   "cell_type": "markdown",
   "metadata": {}
  },
  {
   "cell_type": "code",
   "execution_count": 15,
   "metadata": {
    "tags": []
   },
   "outputs": [
    {
     "output_type": "stream",
     "name": "stdout",
     "text": "1\n2\n3\n4\n5\n6\n7\n8\n9\n10\n最後的值是11\n"
    }
   ],
   "source": [
    "num = 1\n",
    "\n",
    "while num <= 10:\n",
    "    print(num)\n",
    "    num += 1\n",
    "print(\"最後的值是{0}\".format(num))"
   ]
  },
  {
   "cell_type": "code",
   "execution_count": null,
   "metadata": {},
   "outputs": [],
   "source": []
  }
 ]
}
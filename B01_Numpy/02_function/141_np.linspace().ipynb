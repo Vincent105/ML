{
 "nbformat": 4,
 "nbformat_minor": 2,
 "metadata": {
  "language_info": {
   "name": "python",
   "codemirror_mode": {
    "name": "ipython",
    "version": 3
   },
   "version": "3.7.5-final"
  },
  "orig_nbformat": 2,
  "file_extension": ".py",
  "mimetype": "text/x-python",
  "name": "python",
  "npconvert_exporter": "python",
  "pygments_lexer": "ipython3",
  "version": 3,
  "kernelspec": {
   "name": "python37564bitbaseconda3210c909c5fa4ba18cca988f0b8f9fd8",
   "display_name": "Python 3.7.5 64-bit ('base': conda)"
  }
 },
 "cells": [
  {
   "cell_type": "code",
   "execution_count": 2,
   "metadata": {},
   "outputs": [
    {
     "name": "stdout",
     "output_type": "stream",
     "text": "[0.         0.02040816 0.04081633 0.06122449 0.08163265 0.10204082\n 0.12244898 0.14285714 0.16326531 0.18367347 0.20408163 0.2244898\n 0.24489796 0.26530612 0.28571429 0.30612245 0.32653061 0.34693878\n 0.36734694 0.3877551  0.40816327 0.42857143 0.44897959 0.46938776\n 0.48979592 0.51020408 0.53061224 0.55102041 0.57142857 0.59183673\n 0.6122449  0.63265306 0.65306122 0.67346939 0.69387755 0.71428571\n 0.73469388 0.75510204 0.7755102  0.79591837 0.81632653 0.83673469\n 0.85714286 0.87755102 0.89795918 0.91836735 0.93877551 0.95918367\n 0.97959184 1.        ]\n"
    }
   ],
   "source": [
    "import numpy as np \n",
    "print(np.linspace(0, 1))"
   ]
  },
  {
   "cell_type": "code",
   "execution_count": 5,
   "metadata": {},
   "outputs": [
    {
     "name": "stdout",
     "output_type": "stream",
     "text": "[0.   0.25 0.5  0.75 1.  ]\n[0. 1. 2.]\n[ 0. -1. -2.]\n[0. 1. 2.]\n"
    }
   ],
   "source": [
    "print(np.linspace(0, 1, 5))\n",
    "print(np.linspace(0, 2, 3))\n",
    "print(np.linspace(0, -2, 3))\n",
    "print(np.linspace(0, 2, num=3))"
   ]
  },
  {
   "cell_type": "markdown",
   "metadata": {},
   "source": [
    "## 設定 endpoint參數"
   ]
  },
  {
   "cell_type": "code",
   "execution_count": 9,
   "metadata": {},
   "outputs": [
    {
     "name": "stdout",
     "output_type": "stream",
     "text": "[0. 1. 2.]\n[0.         0.66666667 1.33333333]\n[0.         1.33333333 2.66666667]\n"
    }
   ],
   "source": [
    "print(np.linspace(0, 2, num=3, endpoint=True))\n",
    "print(np.linspace(0, 2, num=3, endpoint=False))\n",
    "print(np.linspace(0, 4, num=3, endpoint=False))"
   ]
  },
  {
   "cell_type": "code",
   "execution_count": 5,
   "metadata": {},
   "outputs": [
    {
     "name": "stdout",
     "output_type": "stream",
     "text": "(array([0.        , 0.02040816, 0.04081633, 0.06122449, 0.08163265,\n       0.10204082, 0.12244898, 0.14285714, 0.16326531, 0.18367347,\n       0.20408163, 0.2244898 , 0.24489796, 0.26530612, 0.28571429,\n       0.30612245, 0.32653061, 0.34693878, 0.36734694, 0.3877551 ,\n       0.40816327, 0.42857143, 0.44897959, 0.46938776, 0.48979592,\n       0.51020408, 0.53061224, 0.55102041, 0.57142857, 0.59183673,\n       0.6122449 , 0.63265306, 0.65306122, 0.67346939, 0.69387755,\n       0.71428571, 0.73469388, 0.75510204, 0.7755102 , 0.79591837,\n       0.81632653, 0.83673469, 0.85714286, 0.87755102, 0.89795918,\n       0.91836735, 0.93877551, 0.95918367, 0.97959184, 1.        ]), 0.02040816326530612)\n(array([0., 1., 2.]), 1.0)\n"
    }
   ],
   "source": [
    "print(np.linspace(0, 1, retstep=True))\n",
    "print(np.linspace(0, 2, num=3, retstep=True))"
   ]
  },
  {
   "cell_type": "code",
   "execution_count": null,
   "metadata": {},
   "outputs": [],
   "source": []
  }
 ]
}
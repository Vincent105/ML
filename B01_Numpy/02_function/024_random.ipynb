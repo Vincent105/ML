{
 "nbformat": 4,
 "nbformat_minor": 2,
 "metadata": {
  "language_info": {
   "name": "python",
   "codemirror_mode": {
    "name": "ipython",
    "version": 3
   },
   "version": "3.7.5-final"
  },
  "orig_nbformat": 2,
  "file_extension": ".py",
  "mimetype": "text/x-python",
  "name": "python",
  "npconvert_exporter": "python",
  "pygments_lexer": "ipython3",
  "version": 3,
  "kernelspec": {
   "name": "python37564bitbaseconda3210c909c5fa4ba18cca988f0b8f9fd8",
   "display_name": "Python 3.7.5 64-bit ('base': conda)"
  }
 },
 "cells": [
  {
   "cell_type": "code",
   "execution_count": 2,
   "metadata": {},
   "outputs": [
    {
     "data": {
      "text/plain": "0.7139128251354363"
     },
     "execution_count": 2,
     "metadata": {},
     "output_type": "execute_result"
    }
   ],
   "source": [
    "import numpy as np \n",
    "np.random.rand()"
   ]
  },
  {
   "cell_type": "code",
   "execution_count": 3,
   "metadata": {},
   "outputs": [
    {
     "data": {
      "text/plain": "5"
     },
     "execution_count": 3,
     "metadata": {},
     "output_type": "execute_result"
    }
   ],
   "source": [
    "np.random.randint(10)"
   ]
  },
  {
   "cell_type": "code",
   "execution_count": 4,
   "metadata": {},
   "outputs": [
    {
     "data": {
      "text/plain": "array([[0.46177564, 0.9292045 , 0.77551853],\n       [0.6214693 , 0.66737519, 0.71583417]])"
     },
     "execution_count": 4,
     "metadata": {},
     "output_type": "execute_result"
    }
   ],
   "source": [
    "np.random.rand(2,3)"
   ]
  },
  {
   "cell_type": "code",
   "execution_count": 5,
   "metadata": {},
   "outputs": [
    {
     "data": {
      "text/plain": "array([[0, 2, 4],\n       [5, 5, 0]])"
     },
     "execution_count": 5,
     "metadata": {},
     "output_type": "execute_result"
    }
   ],
   "source": [
    "np.random.randint(10, size=(2, 3))"
   ]
  },
  {
   "cell_type": "code",
   "execution_count": 6,
   "metadata": {},
   "outputs": [
    {
     "data": {
      "text/plain": "array([6, 6, 6, 9, 8, 9, 8, 8, 8, 8])"
     },
     "execution_count": 6,
     "metadata": {},
     "output_type": "execute_result"
    }
   ],
   "source": [
    "np.random.randint(5, 10, size=10)"
   ]
  },
  {
   "cell_type": "code",
   "execution_count": 10,
   "metadata": {},
   "outputs": [
    {
     "name": "stdout",
     "output_type": "stream",
     "text": "np.random.rand(10) [0.22991791 0.41478316 0.81061236 0.75174121 0.47767352 0.58634797\n 0.87237428 0.54626045 0.47275147 0.60265608]\n(10-5) * np.random.rand(10)+ 5 [6.14958956 7.07391581 9.05306182 8.75870607 7.38836762 7.93173985\n 9.36187141 7.73130226 7.36375736 8.01328042]\n"
    }
   ],
   "source": [
    "a = np.random.rand(10)\n",
    "b = (10-5) * a + 5\n",
    "print('np.random.rand(10)',a)\n",
    "print('(10-5) * np.random.rand(10)+ 5',b)"
   ]
  },
  {
   "cell_type": "markdown",
   "metadata": {},
   "source": [
    "## np.random.seed()"
   ]
  },
  {
   "cell_type": "code",
   "execution_count": 21,
   "metadata": {},
   "outputs": [
    {
     "name": "stdout",
     "output_type": "stream",
     "text": "0.04872488080912729\n0.04872488080912729\n0.7813680777780895\n0.7813680777780895\n0.04872488080912729\n"
    }
   ],
   "source": [
    "np.random.seed(seed=21)\n",
    "print(np.random.rand())\n",
    "np.random.seed(seed=21)\n",
    "print(np.random.rand())\n",
    "np.random.seed(seed=211)\n",
    "print(np.random.rand())\n",
    "np.random.seed(seed=211)\n",
    "print(np.random.rand())\n",
    "np.random.seed(seed=21)\n",
    "print(np.random.rand())"
   ]
  },
  {
   "cell_type": "markdown",
   "metadata": {},
   "source": [
    "## np.random.choice()"
   ]
  },
  {
   "cell_type": "code",
   "execution_count": 32,
   "metadata": {},
   "outputs": [
    {
     "name": "stdout",
     "output_type": "stream",
     "text": "['Java' 'Java' 'Python']\n['JavaScript' 'Java' 'Python' 'Python' 'Java']\n['Java' 'Ruby' 'JavaScript' 'Python' 'PHP']\n"
    }
   ],
   "source": [
    "a = ['Python', 'Ruby', 'Java', 'PHP', 'JavaScript']\n",
    "print(np.random.choice(a, 3))\n",
    "print(np.random.choice(a, 5, replace=True))\n",
    "print(np.random.choice(a, 5, replace=False))"
   ]
  },
  {
   "cell_type": "code",
   "execution_count": 36,
   "metadata": {},
   "outputs": [
    {
     "name": "stdout",
     "output_type": "stream",
     "text": "['Ruby' 'Java' 'Python' 'Java' 'Python' 'Python' 'Python' 'Ruby' 'Python'\n 'Python' 'Python' 'Python' 'Java' 'Python' 'Ruby' 'Python' 'Python'\n 'Python' 'Ruby' 'Python']\n"
    }
   ],
   "source": [
    "print(np.random.choice(a, 20, p= [0.8, 0.05, 0.05, 0.05, 0.05]))"
   ]
  },
  {
   "cell_type": "code",
   "execution_count": 38,
   "metadata": {},
   "outputs": [
    {
     "name": "stdout",
     "output_type": "stream",
     "text": "[2 2 1 1 3 1 1 1 1 1]\n"
    }
   ],
   "source": [
    "print(np.random.choice(5, 10))"
   ]
  },
  {
   "cell_type": "markdown",
   "metadata": {},
   "source": [
    "## np.random.shuffle()"
   ]
  },
  {
   "cell_type": "code",
   "execution_count": 40,
   "metadata": {},
   "outputs": [
    {
     "data": {
      "text/plain": "array([0, 1, 2, 3, 4, 5, 6, 7, 8, 9])"
     },
     "execution_count": 40,
     "metadata": {},
     "output_type": "execute_result"
    }
   ],
   "source": [
    "a = np.arange(10)\n",
    "a"
   ]
  },
  {
   "cell_type": "code",
   "execution_count": 42,
   "metadata": {},
   "outputs": [
    {
     "data": {
      "text/plain": "array([4, 3, 5, 6, 0, 1, 7, 8, 9, 2])"
     },
     "execution_count": 42,
     "metadata": {},
     "output_type": "execute_result"
    }
   ],
   "source": [
    "np.random.shuffle(a)\n",
    "a"
   ]
  },
  {
   "cell_type": "code",
   "execution_count": null,
   "metadata": {},
   "outputs": [],
   "source": []
  }
 ]
}
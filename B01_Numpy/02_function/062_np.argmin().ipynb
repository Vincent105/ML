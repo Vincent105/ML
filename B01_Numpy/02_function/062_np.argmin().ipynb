{
 "nbformat": 4,
 "nbformat_minor": 2,
 "metadata": {
  "language_info": {
   "name": "python",
   "codemirror_mode": {
    "name": "ipython",
    "version": 3
   },
   "version": "3.7.5-final"
  },
  "orig_nbformat": 2,
  "file_extension": ".py",
  "mimetype": "text/x-python",
  "name": "python",
  "npconvert_exporter": "python",
  "pygments_lexer": "ipython3",
  "version": 3,
  "kernelspec": {
   "name": "python37564bitbaseconda3210c909c5fa4ba18cca988f0b8f9fd8",
   "display_name": "Python 3.7.5 64-bit ('base': conda)"
  }
 },
 "cells": [
  {
   "cell_type": "code",
   "execution_count": 2,
   "metadata": {},
   "outputs": [
    {
     "name": "stdout",
     "output_type": "stream",
     "text": "[7 2 2 2 7 2 0 1 2 6]\n0\n6\n6\n"
    }
   ],
   "source": [
    "import numpy as np\n",
    "\n",
    "a = np.random.randint(10, size=10)\n",
    "print(a)\n",
    "print(np.min(a))\n",
    "print(np.argmin(a))\n",
    "print(a.argmin())"
   ]
  },
  {
   "cell_type": "markdown",
   "metadata": {},
   "source": [
    "## 2D"
   ]
  },
  {
   "cell_type": "code",
   "execution_count": 3,
   "metadata": {},
   "outputs": [
    {
     "name": "stdout",
     "output_type": "stream",
     "text": "[[5 5 9 2]\n [4 4 4 8]\n [8 8 8 8]]\n2\n3\n3\n"
    }
   ],
   "source": [
    "b = np.random.randint(10, size=(3, 4))\n",
    "print(b)\n",
    "print(np.min(b))\n",
    "print(np.argmin(b))\n",
    "print(b.argmin())"
   ]
  },
  {
   "cell_type": "code",
   "execution_count": 4,
   "metadata": {},
   "outputs": [
    {
     "name": "stdout",
     "output_type": "stream",
     "text": "[4 4 4 2]\n[1 1 1 0]\n[2 4 8]\n[3 0 0]\n"
    }
   ],
   "source": [
    "print(np.min(b, axis=0))\n",
    "print(np.argmin(b, axis=0))\n",
    "print(np.min(b, axis=1))\n",
    "print(np.argmin(b, axis=1))"
   ]
  },
  {
   "cell_type": "markdown",
   "metadata": {},
   "source": [
    "## 3D"
   ]
  },
  {
   "cell_type": "code",
   "execution_count": 5,
   "metadata": {},
   "outputs": [
    {
     "name": "stdout",
     "output_type": "stream",
     "text": "[[[0 2 6 3]\n  [0 5 4 3]\n  [3 8 7 4]]\n\n [[9 5 9 5]\n  [4 4 5 8]\n  [6 9 7 3]]]\n0\n0\n[[0 2 6 3]\n [0 4 4 3]\n [3 8 7 3]]\n[[0 0 0 0]\n [0 1 0 0]\n [0 0 0 1]]\n[[0 2 4 3]\n [4 4 5 3]]\n[[0 0 1 0]\n [1 1 1 2]]\n[[0 0 3]\n [5 4 3]]\n[[0 0 0]\n [1 0 3]]\n"
    }
   ],
   "source": [
    "c = np.random.randint(10, size=(2, 3, 4))\n",
    "print(c)\n",
    "print(np.min(c))\n",
    "print(np.argmin(c))\n",
    "print(np.min(c, axis=0))\n",
    "print(np.argmin(c, axis=0))\n",
    "print(np.min(c, axis=1))\n",
    "print(np.argmin(c, axis=1))\n",
    "print(np.min(c, axis=2))\n",
    "print(np.argmin(c, axis=2))"
   ]
  },
  {
   "cell_type": "code",
   "execution_count": null,
   "metadata": {},
   "outputs": [],
   "source": []
  }
 ]
}
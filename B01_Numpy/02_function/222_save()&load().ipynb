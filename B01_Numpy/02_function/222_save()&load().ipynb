{
 "nbformat": 4,
 "nbformat_minor": 2,
 "metadata": {
  "language_info": {
   "name": "python",
   "codemirror_mode": {
    "name": "ipython",
    "version": 3
   },
   "version": "3.7.5-final"
  },
  "orig_nbformat": 2,
  "file_extension": ".py",
  "mimetype": "text/x-python",
  "name": "python",
  "npconvert_exporter": "python",
  "pygments_lexer": "ipython3",
  "version": 3,
  "kernelspec": {
   "name": "python37564bitbaseconda3210c909c5fa4ba18cca988f0b8f9fd8",
   "display_name": "Python 3.7.5 64-bit ('base': conda)"
  }
 },
 "cells": [
  {
   "cell_type": "code",
   "execution_count": 5,
   "metadata": {},
   "outputs": [
    {
     "data": {
      "text/plain": "array([[ 0.3655839 , -0.45303327,  1.63605433, ...,  1.34111251,\n        -0.64423538,  0.93227424],\n       [ 0.33866891,  1.14596895,  0.6875788 , ..., -0.86485881,\n         1.34971516, -1.53779766],\n       [ 0.16047048,  1.59150512, -0.04780828, ..., -0.41869847,\n         0.78679217,  0.66261835],\n       ...,\n       [-1.69639794, -0.0548686 ,  0.18720106, ...,  1.19102659,\n        -0.6371953 ,  2.67942578],\n       [-0.75951878, -0.46328032,  0.5164503 , ...,  1.03007422,\n        -0.12732415,  1.0458509 ],\n       [ 0.94184323, -0.63942812, -1.46405603, ...,  0.52699841,\n         0.94333649,  1.1232116 ]])"
     },
     "execution_count": 5,
     "metadata": {},
     "output_type": "execute_result"
    }
   ],
   "source": [
    "import numpy as np \n",
    "a = np.random.randn(1200*1000).reshape(1200, -1)\n",
    "np.save('a',a)\n",
    "np.load('a.npy')"
   ]
  },
  {
   "cell_type": "code",
   "execution_count": 8,
   "metadata": {},
   "outputs": [
    {
     "data": {
      "text/plain": "(12, 20, 40)"
     },
     "execution_count": 8,
     "metadata": {},
     "output_type": "execute_result"
    }
   ],
   "source": [
    "c = np.random.randn(12*20*40).reshape(12, 20, 40)\n",
    "np.save('c', c)\n",
    "d = np.load('c.npy')\n",
    "d.shape"
   ]
  },
  {
   "cell_type": "code",
   "execution_count": null,
   "metadata": {},
   "outputs": [],
   "source": []
  }
 ]
}
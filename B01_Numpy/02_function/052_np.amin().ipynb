{
 "nbformat": 4,
 "nbformat_minor": 2,
 "metadata": {
  "language_info": {
   "name": "python",
   "codemirror_mode": {
    "name": "ipython",
    "version": 3
   },
   "version": "3.7.5-final"
  },
  "orig_nbformat": 2,
  "file_extension": ".py",
  "mimetype": "text/x-python",
  "name": "python",
  "npconvert_exporter": "python",
  "pygments_lexer": "ipython3",
  "version": 3,
  "kernelspec": {
   "name": "python37564bitbaseconda3210c909c5fa4ba18cca988f0b8f9fd8",
   "display_name": "Python 3.7.5 64-bit ('base': conda)"
  }
 },
 "cells": [
  {
   "cell_type": "markdown",
   "metadata": {},
   "source": [
    "## np.amin()"
   ]
  },
  {
   "cell_type": "code",
   "execution_count": 2,
   "metadata": {},
   "outputs": [
    {
     "name": "stdout",
     "output_type": "stream",
     "text": "1\n"
    }
   ],
   "source": [
    "import numpy as np \n",
    "print(np.amin(np.array([1, 2, 3, 4, 4])))"
   ]
  },
  {
   "cell_type": "markdown",
   "metadata": {},
   "source": [
    "## np.amax(a,axis=)"
   ]
  },
  {
   "cell_type": "code",
   "execution_count": 3,
   "metadata": {},
   "outputs": [
    {
     "name": "stdout",
     "output_type": "stream",
     "text": "[[ 0  1  2  3]\n [ 4  5  6  7]\n [ 8  9 10 11]]\n[0 1 2 3]\n[0 4 8]\n[[0 1 2 3]]\n[[0]\n [4]\n [8]]\n"
    }
   ],
   "source": [
    "arr = np.arange(12).reshape((3, 4))\n",
    "print(arr)\n",
    "print(np.amin(arr, axis=0))\n",
    "print(np.amin(arr, axis=1))\n",
    "print(np.amin(arr, axis=0, keepdims=True))\n",
    "print(np.amin(arr, axis=1, keepdims=True))"
   ]
  },
  {
   "cell_type": "code",
   "execution_count": 4,
   "metadata": {},
   "outputs": [
    {
     "name": "stdout",
     "output_type": "stream",
     "text": "[[[10  7 10  9 20]\n  [18  3  0 18 29]\n  [11 11 15 17  8]]\n\n [[18 18 16  4 15]\n  [22 10  6  8 23]\n  [22 23 23 19 26]]]\n0\n[[10  7 10  4 15]\n [18  3  0  8 23]\n [11 11 15 17  8]]\n[[10  3  0  9  8]\n [18 10  6  4 15]]\n[[ 7  0  8]\n [ 4  6 19]]\n"
    }
   ],
   "source": [
    "arr2 = np.random.randint(30, size=(2, 3, 5))\n",
    "print(arr2)\n",
    "print(arr2.min())\n",
    "print(arr2.min(axis=0))\n",
    "print(arr2.min(axis=1))\n",
    "print(arr2.min(axis=2))"
   ]
  },
  {
   "cell_type": "code",
   "execution_count": null,
   "metadata": {},
   "outputs": [],
   "source": []
  }
 ]
}
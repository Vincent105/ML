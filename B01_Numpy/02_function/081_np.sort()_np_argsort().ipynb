{
 "nbformat": 4,
 "nbformat_minor": 2,
 "metadata": {
  "language_info": {
   "name": "python",
   "codemirror_mode": {
    "name": "ipython",
    "version": 3
   },
   "version": "3.7.5-final"
  },
  "orig_nbformat": 2,
  "file_extension": ".py",
  "mimetype": "text/x-python",
  "name": "python",
  "npconvert_exporter": "python",
  "pygments_lexer": "ipython3",
  "version": 3,
  "kernelspec": {
   "name": "python37564bitbaseconda3210c909c5fa4ba18cca988f0b8f9fd8",
   "display_name": "Python 3.7.5 64-bit ('base': conda)"
  }
 },
 "cells": [
  {
   "cell_type": "markdown",
   "metadata": {},
   "source": [
    "## 1D"
   ]
  },
  {
   "cell_type": "code",
   "execution_count": 2,
   "metadata": {},
   "outputs": [
    {
     "name": "stdout",
     "output_type": "stream",
     "text": "[ 1 58 15 25 47 12 37 26 96 66 39 81 21 68 32 34 52 23 42 31]\n[ 1 12 15 21 23 25 26 31 32 34 37 39 42 47 52 58 66 68 81 96]\n[ 0  5  2 12 17  3  7 19 14 15  6 10 18  4 16  1  9 13 11  8]\n"
    }
   ],
   "source": [
    "import numpy as np\n",
    "a = np.random.randint(0, 100, size=20)\n",
    "print(a)\n",
    "print(np.sort(a))\n",
    "print(np.argsort(a))"
   ]
  },
  {
   "cell_type": "markdown",
   "metadata": {},
   "source": [
    "## 2D"
   ]
  },
  {
   "cell_type": "code",
   "execution_count": 6,
   "metadata": {},
   "outputs": [
    {
     "name": "stdout",
     "output_type": "stream",
     "text": "[[81 77 84 81 68]\n [25 84  1 67 65]\n [31 35 94 75 96]\n [37  6  8 35  2]]\n[[68 77 81 81 84]\n [ 1 25 65 67 84]\n [31 35 75 94 96]\n [ 2  6  8 35 37]]\n[[4 1 0 3 2]\n [2 0 4 3 1]\n [0 1 3 2 4]\n [4 1 2 3 0]]\n"
    }
   ],
   "source": [
    "b = np.random.randint(0, 100, size=20).reshape(4,5)\n",
    "print(b)\n",
    "print(np.sort(b))\n",
    "print(np.argsort(b))"
   ]
  },
  {
   "cell_type": "code",
   "execution_count": 8,
   "metadata": {},
   "outputs": [
    {
     "name": "stdout",
     "output_type": "stream",
     "text": "[[81 77 84 81 68]\n [25 84  1 67 65]\n [31 35 94 75 96]\n [37  6  8 35  2]]\n[[25  6  1 35  2]\n [31 35  8 67 65]\n [37 77 84 75 68]\n [81 84 94 81 96]]\n[[1 3 1 3 3]\n [2 2 3 1 1]\n [3 0 0 2 0]\n [0 1 2 0 2]]\n"
    }
   ],
   "source": [
    "print(b)\n",
    "print(np.sort(b, axis=0))\n",
    "print(np.argsort(b, axis=0))"
   ]
  },
  {
   "cell_type": "markdown",
   "metadata": {},
   "source": [
    "## 3D"
   ]
  },
  {
   "cell_type": "code",
   "execution_count": 12,
   "metadata": {},
   "outputs": [
    {
     "name": "stdout",
     "output_type": "stream",
     "text": "[[[19 37 58 99 90]\n  [46 73 68 59 11]\n  [16 61 19 67 65]\n  [17 73 48 42 10]]\n\n [[17 95 48  5 17]\n  [63 27 16 17 84]\n  [95 52 87 12 84]\n  [85 94 93 77 51]]]\n[[[17 37 48  5 17]\n  [46 27 16 17 11]\n  [16 52 19 12 65]\n  [17 73 48 42 10]]\n\n [[19 95 58 99 90]\n  [63 73 68 59 84]\n  [95 61 87 67 84]\n  [85 94 93 77 51]]]\n[[[1 0 1 1 1]\n  [0 1 1 1 0]\n  [0 1 0 1 0]\n  [0 0 0 0 0]]\n\n [[0 1 0 0 0]\n  [1 0 0 0 1]\n  [1 0 1 0 1]\n  [1 1 1 1 1]]]\n"
    }
   ],
   "source": [
    "c = np.random.randint(0, 100, size=(2,4,5))\n",
    "print(c)\n",
    "print(np.sort(c,axis=0))\n",
    "print(np.argsort(c,axis=0))"
   ]
  },
  {
   "cell_type": "markdown",
   "metadata": {},
   "source": [
    "## 建立陣列時 如有使用dtype給予欄位名稱 就可以使用sort() 指定order參數排序"
   ]
  },
  {
   "cell_type": "code",
   "execution_count": 5,
   "metadata": {},
   "outputs": [
    {
     "name": "stdout",
     "output_type": "stream",
     "text": "[(b'Alice', 25, 9.7) (b'Bob', 12, 7.6) (b'Catherine',  1, 8.6)\n (b'David', 10, 7.6)]\n[(b'Bob', 12, 7.6) (b'David', 10, 7.6) (b'Catherine',  1, 8.6)\n (b'Alice', 25, 9.7)]\n[1 3 2 0]\n[(b'David', 10, 7.6) (b'Bob', 12, 7.6) (b'Catherine',  1, 8.6)\n (b'Alice', 25, 9.7)]\n"
    }
   ],
   "source": [
    "values = [('Alice', 25, 9.7), ('Bob', 12, 7.6), ('Catherine', 1, 8.6), ('David', 10, 7.6)]\n",
    "dt = [('name', 'S10'), ('ID', int), ('score', float)]\n",
    "a = np.array(values, dtype=dt)\n",
    "print(a)\n",
    "print(np.sort(a, order='score'))\n",
    "print(np.argsort(a, order='score'))\n",
    "print(np.sort(a, order=['score', 'ID']))"
   ]
  },
  {
   "cell_type": "markdown",
   "metadata": {},
   "source": [
    "## ndarary.sort()  直接改變原物件"
   ]
  },
  {
   "cell_type": "code",
   "execution_count": 9,
   "metadata": {},
   "outputs": [
    {
     "data": {
      "text/plain": "array([93, 52, 83, 65, 50, 78, 72, 40, 26, 80, 62, 36, 80, 61, 69, 80, 87,\n       92, 22, 56])"
     },
     "execution_count": 9,
     "metadata": {},
     "output_type": "execute_result"
    }
   ],
   "source": [
    "a = np.random.randint(0, 100 ,20)\n",
    "a"
   ]
  },
  {
   "cell_type": "code",
   "execution_count": 10,
   "metadata": {},
   "outputs": [
    {
     "name": "stdout",
     "output_type": "stream",
     "text": "[93 52 83 65 50 78 72 40 26 80 62 36 80 61 69 80 87 92 22 56]\n[22 26 36 40 50 52 56 61 62 65 69 72 78 80 80 80 83 87 92 93]\n[93 52 83 65 50 78 72 40 26 80 62 36 80 61 69 80 87 92 22 56]\n"
    }
   ],
   "source": [
    "print(a)\n",
    "print(np.sort(a))\n",
    "print(a)"
   ]
  },
  {
   "cell_type": "code",
   "execution_count": 11,
   "metadata": {},
   "outputs": [
    {
     "name": "stdout",
     "output_type": "stream",
     "text": "None\n[22 26 36 40 50 52 56 61 62 65 69 72 78 80 80 80 83 87 92 93]\n"
    }
   ],
   "source": [
    "print(a.sort())\n",
    "print(a)"
   ]
  }
 ]
}
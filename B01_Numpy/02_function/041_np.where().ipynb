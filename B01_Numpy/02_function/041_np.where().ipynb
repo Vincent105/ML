{
 "nbformat": 4,
 "nbformat_minor": 2,
 "metadata": {
  "language_info": {
   "name": "python",
   "codemirror_mode": {
    "name": "ipython",
    "version": 3
   },
   "version": "3.7.5-final"
  },
  "orig_nbformat": 2,
  "file_extension": ".py",
  "mimetype": "text/x-python",
  "name": "python",
  "npconvert_exporter": "python",
  "pygments_lexer": "ipython3",
  "version": 3,
  "kernelspec": {
   "name": "python37564bitbaseconda3210c909c5fa4ba18cca988f0b8f9fd8",
   "display_name": "Python 3.7.5 64-bit ('base': conda)"
  }
 },
 "cells": [
  {
   "cell_type": "markdown",
   "metadata": {},
   "source": [
    "## condition only(show index or value)"
   ]
  },
  {
   "cell_type": "code",
   "execution_count": 18,
   "metadata": {},
   "outputs": [
    {
     "name": "stdout",
     "output_type": "stream",
     "text": "[20 18 16 14 12 10  8  6  4  2]\n(array([6, 7, 8, 9], dtype=int64),)\n[8 6 4 2]\n"
    }
   ],
   "source": [
    "import numpy as np\n",
    "a = np.arange(20, 0 ,-2)\n",
    "print(a)\n",
    "print(np.where(a<10))\n",
    "print(a[np.where(a<10)])"
   ]
  },
  {
   "cell_type": "code",
   "execution_count": 19,
   "metadata": {},
   "outputs": [
    {
     "name": "stdout",
     "output_type": "stream",
     "text": "[[ 0  1  2  3]\n [ 4  5  6  7]\n [ 8  9 10 11]]\n(array([0, 0, 1, 1, 2, 2], dtype=int64), array([0, 2, 0, 2, 0, 2], dtype=int64))\n[ 0  2  4  6  8 10]\n"
    }
   ],
   "source": [
    "b = np.arange(12).reshape((3, 4))\n",
    "print(b)\n",
    "print(np.where(b % 2 == 0))\n",
    "print(b[np.where(b % 2 == 0)])"
   ]
  },
  {
   "cell_type": "markdown",
   "metadata": {},
   "source": [
    "## condition with parameter (replace the value of true & false )"
   ]
  },
  {
   "cell_type": "code",
   "execution_count": 20,
   "metadata": {},
   "outputs": [
    {
     "name": "stdout",
     "output_type": "stream",
     "text": "[['even' 'odd' 'even' 'odd']\n ['even' 'odd' 'even' 'odd']\n ['even' 'odd' 'even' 'odd']]\n"
    }
   ],
   "source": [
    "print(np.where(b % 2 == 0, 'even', 'odd'))"
   ]
  },
  {
   "cell_type": "code",
   "execution_count": 25,
   "metadata": {},
   "outputs": [
    {
     "name": "stdout",
     "output_type": "stream",
     "text": "[[ 0  1  2  3]\n [ 4  5  6  7]\n [ 8  9 10 11]]\n[[  0   1   4   9]\n [ 16  25  36  49]\n [ 64  81 100 121]]\n[[  0   1   2   9]\n [  4  25   6  49]\n [  8  81  10 121]]\n"
    }
   ],
   "source": [
    "a = np.arange(12).reshape((3, 4))\n",
    "b = np.reshape(a, (3, 4))\n",
    "c = b ** 2\n",
    "print(b)\n",
    "print(c)\n",
    "print(np.where(b % 2 == 0, b, c))"
   ]
  },
  {
   "cell_type": "code",
   "execution_count": null,
   "metadata": {},
   "outputs": [],
   "source": []
  }
 ]
}
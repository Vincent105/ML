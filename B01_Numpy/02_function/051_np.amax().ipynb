{
 "nbformat": 4,
 "nbformat_minor": 2,
 "metadata": {
  "language_info": {
   "name": "python",
   "codemirror_mode": {
    "name": "ipython",
    "version": 3
   },
   "version": "3.7.5-final"
  },
  "orig_nbformat": 2,
  "file_extension": ".py",
  "mimetype": "text/x-python",
  "name": "python",
  "npconvert_exporter": "python",
  "pygments_lexer": "ipython3",
  "version": 3,
  "kernelspec": {
   "name": "python37564bitbaseconda3210c909c5fa4ba18cca988f0b8f9fd8",
   "display_name": "Python 3.7.5 64-bit ('base': conda)"
  }
 },
 "cells": [
  {
   "cell_type": "markdown",
   "metadata": {},
   "source": [
    "## np.amax()"
   ]
  },
  {
   "cell_type": "code",
   "execution_count": 2,
   "metadata": {},
   "outputs": [
    {
     "name": "stdout",
     "output_type": "stream",
     "text": "4\n"
    }
   ],
   "source": [
    "import numpy as np \n",
    "print(np.amax(np.array([1, 2, 3, 4, 4])))"
   ]
  },
  {
   "cell_type": "markdown",
   "metadata": {},
   "source": [
    "## np.amax(a,axis=)"
   ]
  },
  {
   "cell_type": "code",
   "execution_count": 3,
   "metadata": {},
   "outputs": [
    {
     "name": "stdout",
     "output_type": "stream",
     "text": "[[ 0  1  2  3]\n [ 4  5  6  7]\n [ 8  9 10 11]]\n[ 8  9 10 11]\n[ 3  7 11]\n[[ 8  9 10 11]]\n[[ 3]\n [ 7]\n [11]]\n"
    }
   ],
   "source": [
    "arr = np.arange(12).reshape((3, 4))\n",
    "print(arr)\n",
    "print(np.amax(arr, axis=0))\n",
    "print(np.amax(arr, axis=1))\n",
    "print(np.amax(arr, axis=0, keepdims=True))\n",
    "print(np.amax(arr, axis=1, keepdims=True))"
   ]
  },
  {
   "cell_type": "markdown",
   "metadata": {},
   "source": [
    "## ndarray物件.max()"
   ]
  },
  {
   "cell_type": "code",
   "execution_count": 5,
   "metadata": {},
   "outputs": [
    {
     "name": "stdout",
     "output_type": "stream",
     "text": "[[[26  0 20 18  8]\n  [26 24  3 26  3]\n  [10 23 15 22 24]]\n\n [[24  5  3 15 18]\n  [26  2  6 26 13]\n  [ 6 16  3 22 18]]]\n26\n[[26  5 20 18 18]\n [26 24  6 26 13]\n [10 23 15 22 24]]\n[[26 24 20 26 24]\n [26 16  6 26 18]]\n[[26 26 24]\n [24 26 22]]\n"
    }
   ],
   "source": [
    "arr2 = np.random.randint(30, size=(2, 3, 5))\n",
    "print(arr2)\n",
    "print(arr2.max())\n",
    "print(arr2.max(axis=0))\n",
    "print(arr2.max(axis=1))\n",
    "print(arr2.max(axis=2))"
   ]
  },
  {
   "cell_type": "code",
   "execution_count": null,
   "metadata": {},
   "outputs": [],
   "source": []
  }
 ]
}
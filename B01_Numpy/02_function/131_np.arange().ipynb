{
 "nbformat": 4,
 "nbformat_minor": 2,
 "metadata": {
  "language_info": {
   "name": "python",
   "codemirror_mode": {
    "name": "ipython",
    "version": 3
   },
   "version": "3.7.5-final"
  },
  "orig_nbformat": 2,
  "file_extension": ".py",
  "mimetype": "text/x-python",
  "name": "python",
  "npconvert_exporter": "python",
  "pygments_lexer": "ipython3",
  "version": 3,
  "kernelspec": {
   "name": "python37564bitbaseconda3210c909c5fa4ba18cca988f0b8f9fd8",
   "display_name": "Python 3.7.5 64-bit ('base': conda)"
  }
 },
 "cells": [
  {
   "cell_type": "code",
   "execution_count": 3,
   "metadata": {},
   "outputs": [
    {
     "name": "stdout",
     "output_type": "stream",
     "text": "[0 1 2 3 4]\n[]\n[0. 1. 2. 3. 4.]\n"
    }
   ],
   "source": [
    "import numpy as np \n",
    "print(np.arange(5))\n",
    "print(np.arange(-10))\n",
    "print(np.arange(4.5))"
   ]
  },
  {
   "cell_type": "code",
   "execution_count": 7,
   "metadata": {},
   "outputs": [
    {
     "name": "stdout",
     "output_type": "stream",
     "text": "[1 2 3 4 5 6 7]\n[2 3 4 5 6 7 8 9]\n[0.5 1.5 2.5 3.5 4.5]\n[0.55 1.55 2.55 3.55 4.55]\n"
    }
   ],
   "source": [
    "print(np.arange(1, 8))\n",
    "print(np.arange(2, 10))\n",
    "print(np.arange(0.5, 5.5))\n",
    "print(np.arange(0.55, 5.55))"
   ]
  },
  {
   "cell_type": "markdown",
   "metadata": {},
   "source": [
    "## 設置step參數"
   ]
  },
  {
   "cell_type": "code",
   "execution_count": 12,
   "metadata": {},
   "outputs": [
    {
     "name": "stdout",
     "output_type": "stream",
     "text": "[ 2  4  6  8 10]\n[2.  2.2 2.4 2.6 2.8 3.  3.2 3.4 3.6 3.8 4.  4.2 4.4 4.6 4.8]\n[5 4 3]\n"
    }
   ],
   "source": [
    "print(np.arange(2, 12, 2))\n",
    "print(np.arange(2, 5, 0.2))\n",
    "print(np.arange(5, 2, -1))"
   ]
  },
  {
   "cell_type": "markdown",
   "metadata": {},
   "source": [
    "## 設定dtype參數"
   ]
  },
  {
   "cell_type": "code",
   "execution_count": 15,
   "metadata": {},
   "outputs": [
    {
     "name": "stdout",
     "output_type": "stream",
     "text": "[0. 1. 2. 3. 4.]\n[0 1 2 3 4]\n[0 0 0 0 0 0 0 0 0 0]\n[0 1 2 3]\n"
    }
   ],
   "source": [
    "print(np.arange(5, dtype='float64'))\n",
    "print(np.arange(5.0, dtype='int'))\n",
    "print(np.arange(0, 5, 0.5, dtype='int'))\n",
    "print(np.arange(0, 5, 1.5, dtype='int'))"
   ]
  },
  {
   "cell_type": "code",
   "execution_count": null,
   "metadata": {},
   "outputs": [],
   "source": []
  }
 ]
}
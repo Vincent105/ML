{
 "nbformat": 4,
 "nbformat_minor": 2,
 "metadata": {
  "language_info": {
   "name": "python",
   "codemirror_mode": {
    "name": "ipython",
    "version": 3
   },
   "version": "3.7.5-final"
  },
  "orig_nbformat": 2,
  "file_extension": ".py",
  "mimetype": "text/x-python",
  "name": "python",
  "npconvert_exporter": "python",
  "pygments_lexer": "ipython3",
  "version": 3,
  "kernelspec": {
   "name": "python37564bitbaseconda3210c909c5fa4ba18cca988f0b8f9fd8",
   "display_name": "Python 3.7.5 64-bit ('base': conda)"
  }
 },
 "cells": [
  {
   "cell_type": "code",
   "execution_count": 7,
   "metadata": {},
   "outputs": [
    {
     "name": "stdout",
     "output_type": "stream",
     "text": "[[ 0  1  2  3]\n [ 4  5  6  7]\n [ 8  9 10 11]]\n[[ 0  4  8]\n [ 1  5  9]\n [ 2  6 10]\n [ 3  7 11]]\n[[ 0  4  8]\n [ 1  5  9]\n [ 2  6 10]\n [ 3  7 11]]\n"
    }
   ],
   "source": [
    "import numpy as np \n",
    "\n",
    "a = np.arange(12).reshape(3, 4)\n",
    "print(a)\n",
    "print(np.transpose(a))\n",
    "print(np.transpose(a, (1, 0)))"
   ]
  },
  {
   "cell_type": "code",
   "execution_count": 13,
   "metadata": {},
   "outputs": [
    {
     "name": "stdout",
     "output_type": "stream",
     "text": "[0 1 2 3 4 5]\n[0 1 2 3 4 5]\n[[0 1 2 3 4 5]]\n[[0]\n [1]\n [2]\n [3]\n [4]\n [5]]\n"
    }
   ],
   "source": [
    "b = np.arange(6)\n",
    "print(b)\n",
    "print(np.transpose(b))\n",
    "print(b.reshape((1, 6)))\n",
    "print(np.transpose(b.reshape((1, 6))))"
   ]
  },
  {
   "cell_type": "code",
   "execution_count": 4,
   "metadata": {},
   "outputs": [
    {
     "name": "stdout",
     "output_type": "stream",
     "text": "[[[ 0  1]\n  [ 2  3]\n  [ 4  5]]\n\n [[ 6  7]\n  [ 8  9]\n  [10 11]]\n\n [[12 13]\n  [14 15]\n  [16 17]]\n\n [[18 19]\n  [20 21]\n  [22 23]]]\n"
    }
   ],
   "source": [
    "c = np.arange(24).reshape(4, 3, 2)\n",
    "print(c)"
   ]
  },
  {
   "cell_type": "code",
   "execution_count": 9,
   "metadata": {},
   "outputs": [
    {
     "name": "stdout",
     "output_type": "stream",
     "text": "[[[ 0  6 12 18]\n  [ 2  8 14 20]\n  [ 4 10 16 22]]\n\n [[ 1  7 13 19]\n  [ 3  9 15 21]\n  [ 5 11 17 23]]]\n"
    }
   ],
   "source": [
    "print(np.transpose(c,axes=(2, 1, 0)))"
   ]
  },
  {
   "cell_type": "code",
   "execution_count": 10,
   "metadata": {},
   "outputs": [
    {
     "name": "stdout",
     "output_type": "stream",
     "text": "[[[ 0  1]\n  [ 6  7]\n  [12 13]\n  [18 19]]\n\n [[ 2  3]\n  [ 8  9]\n  [14 15]\n  [20 21]]\n\n [[ 4  5]\n  [10 11]\n  [16 17]\n  [22 23]]]\n"
    }
   ],
   "source": [
    "print(np.transpose(c,axes=(1, 0, 2)))"
   ]
  },
  {
   "cell_type": "markdown",
   "metadata": {},
   "source": [
    "## ndarray.transpose(axes)"
   ]
  },
  {
   "cell_type": "code",
   "execution_count": 11,
   "metadata": {},
   "outputs": [
    {
     "data": {
      "text/plain": "array([[[ 0,  6, 12, 18],\n        [ 2,  8, 14, 20],\n        [ 4, 10, 16, 22]],\n\n       [[ 1,  7, 13, 19],\n        [ 3,  9, 15, 21],\n        [ 5, 11, 17, 23]]])"
     },
     "execution_count": 11,
     "metadata": {},
     "output_type": "execute_result"
    }
   ],
   "source": [
    "c.transpose()"
   ]
  },
  {
   "cell_type": "code",
   "execution_count": 12,
   "metadata": {},
   "outputs": [
    {
     "data": {
      "text/plain": "(4, 3, 2)"
     },
     "execution_count": 12,
     "metadata": {},
     "output_type": "execute_result"
    }
   ],
   "source": [
    "c.shape"
   ]
  },
  {
   "cell_type": "code",
   "execution_count": 13,
   "metadata": {},
   "outputs": [
    {
     "data": {
      "text/plain": "(2, 3, 4)"
     },
     "execution_count": 13,
     "metadata": {},
     "output_type": "execute_result"
    }
   ],
   "source": [
    "c.transpose().shape"
   ]
  },
  {
   "cell_type": "code",
   "execution_count": 15,
   "metadata": {},
   "outputs": [
    {
     "data": {
      "text/plain": "(3, 4, 2)"
     },
     "execution_count": 15,
     "metadata": {},
     "output_type": "execute_result"
    }
   ],
   "source": [
    "c.transpose(1, 0, 2).shape"
   ]
  },
  {
   "cell_type": "markdown",
   "metadata": {},
   "source": [
    "## ndarray.T"
   ]
  },
  {
   "cell_type": "code",
   "execution_count": 18,
   "metadata": {},
   "outputs": [
    {
     "data": {
      "text/plain": "array([[ 0,  1,  2,  3],\n       [ 4,  5,  6,  7],\n       [ 8,  9, 10, 11]])"
     },
     "execution_count": 18,
     "metadata": {},
     "output_type": "execute_result"
    }
   ],
   "source": [
    "a"
   ]
  },
  {
   "cell_type": "code",
   "execution_count": 19,
   "metadata": {},
   "outputs": [
    {
     "data": {
      "text/plain": "array([[ 0,  4,  8],\n       [ 1,  5,  9],\n       [ 2,  6, 10],\n       [ 3,  7, 11]])"
     },
     "execution_count": 19,
     "metadata": {},
     "output_type": "execute_result"
    }
   ],
   "source": [
    "a.T"
   ]
  },
  {
   "cell_type": "code",
   "execution_count": 22,
   "metadata": {},
   "outputs": [
    {
     "data": {
      "text/plain": "array([0, 1, 2, 3, 4, 5])"
     },
     "execution_count": 22,
     "metadata": {},
     "output_type": "execute_result"
    }
   ],
   "source": [
    "b"
   ]
  },
  {
   "cell_type": "code",
   "execution_count": 23,
   "metadata": {},
   "outputs": [
    {
     "data": {
      "text/plain": "array([0, 1, 2, 3, 4, 5])"
     },
     "execution_count": 23,
     "metadata": {},
     "output_type": "execute_result"
    }
   ],
   "source": [
    "b.T"
   ]
  },
  {
   "cell_type": "code",
   "execution_count": 24,
   "metadata": {},
   "outputs": [
    {
     "data": {
      "text/plain": "True"
     },
     "execution_count": 24,
     "metadata": {},
     "output_type": "execute_result"
    }
   ],
   "source": [
    "a.transpose().shape == a.T.shape"
   ]
  },
  {
   "cell_type": "code",
   "execution_count": 25,
   "metadata": {},
   "outputs": [
    {
     "data": {
      "text/plain": "True"
     },
     "execution_count": 25,
     "metadata": {},
     "output_type": "execute_result"
    }
   ],
   "source": [
    "b.transpose().shape == b.T.shape"
   ]
  }
 ]
}
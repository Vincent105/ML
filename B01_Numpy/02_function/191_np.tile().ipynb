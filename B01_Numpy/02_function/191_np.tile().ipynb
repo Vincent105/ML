{
 "nbformat": 4,
 "nbformat_minor": 2,
 "metadata": {
  "language_info": {
   "name": "python",
   "codemirror_mode": {
    "name": "ipython",
    "version": 3
   },
   "version": "3.7.5-final"
  },
  "orig_nbformat": 2,
  "file_extension": ".py",
  "mimetype": "text/x-python",
  "name": "python",
  "npconvert_exporter": "python",
  "pygments_lexer": "ipython3",
  "version": 3,
  "kernelspec": {
   "name": "python37564bitbaseconda3210c909c5fa4ba18cca988f0b8f9fd8",
   "display_name": "Python 3.7.5 64-bit ('base': conda)"
  }
 },
 "cells": [
  {
   "cell_type": "markdown",
   "metadata": {},
   "source": [
    "np.tile() reps參數"
   ]
  },
  {
   "cell_type": "code",
   "execution_count": 4,
   "metadata": {},
   "outputs": [
    {
     "data": {
      "text/plain": "array([0, 1, 2, 0, 1, 2])"
     },
     "execution_count": 4,
     "metadata": {},
     "output_type": "execute_result"
    }
   ],
   "source": [
    "import numpy as np \n",
    "\n",
    "a = np.array([0,1,2])\n",
    "np.tile(a, 2)"
   ]
  },
  {
   "cell_type": "code",
   "execution_count": 5,
   "metadata": {},
   "outputs": [
    {
     "data": {
      "text/plain": "array([[0, 1, 2, 0, 1, 2, 0, 1, 2],\n       [0, 1, 2, 0, 1, 2, 0, 1, 2]])"
     },
     "execution_count": 5,
     "metadata": {},
     "output_type": "execute_result"
    }
   ],
   "source": [
    "np.tile(a, (2, 3))"
   ]
  },
  {
   "cell_type": "code",
   "execution_count": 6,
   "metadata": {},
   "outputs": [
    {
     "data": {
      "text/plain": "array([[0, 1, 2, 0, 1, 2, 0, 1, 2],\n       [0, 1, 2, 0, 1, 2, 0, 1, 2],\n       [0, 1, 2, 0, 1, 2, 0, 1, 2]])"
     },
     "execution_count": 6,
     "metadata": {},
     "output_type": "execute_result"
    }
   ],
   "source": [
    "np.tile(a, (3, 3))"
   ]
  },
  {
   "cell_type": "code",
   "execution_count": 7,
   "metadata": {},
   "outputs": [
    {
     "data": {
      "text/plain": "array([[[0, 1, 2, 0, 1, 2, 0, 1, 2],\n        [0, 1, 2, 0, 1, 2, 0, 1, 2],\n        [0, 1, 2, 0, 1, 2, 0, 1, 2]],\n\n       [[0, 1, 2, 0, 1, 2, 0, 1, 2],\n        [0, 1, 2, 0, 1, 2, 0, 1, 2],\n        [0, 1, 2, 0, 1, 2, 0, 1, 2]],\n\n       [[0, 1, 2, 0, 1, 2, 0, 1, 2],\n        [0, 1, 2, 0, 1, 2, 0, 1, 2],\n        [0, 1, 2, 0, 1, 2, 0, 1, 2]]])"
     },
     "execution_count": 7,
     "metadata": {},
     "output_type": "execute_result"
    }
   ],
   "source": [
    "np.tile(a, (3, 3, 3))\n"
   ]
  },
  {
   "cell_type": "code",
   "execution_count": null,
   "metadata": {},
   "outputs": [],
   "source": []
  }
 ]
}
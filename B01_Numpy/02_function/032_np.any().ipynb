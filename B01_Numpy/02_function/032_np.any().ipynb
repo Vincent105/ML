{
 "nbformat": 4,
 "nbformat_minor": 2,
 "metadata": {
  "language_info": {
   "name": "python",
   "codemirror_mode": {
    "name": "ipython",
    "version": 3
   },
   "version": "3.7.5-final"
  },
  "orig_nbformat": 2,
  "file_extension": ".py",
  "mimetype": "text/x-python",
  "name": "python",
  "npconvert_exporter": "python",
  "pygments_lexer": "ipython3",
  "version": 3,
  "kernelspec": {
   "name": "python37564bitbaseconda3210c909c5fa4ba18cca988f0b8f9fd8",
   "display_name": "Python 3.7.5 64-bit ('base': conda)"
  }
 },
 "cells": [
  {
   "cell_type": "code",
   "execution_count": 56,
   "metadata": {},
   "outputs": [
    {
     "data": {
      "text/plain": "array([[7, 3, 9],\n       [6, 3, 8]])"
     },
     "execution_count": 56,
     "metadata": {},
     "output_type": "execute_result"
    }
   ],
   "source": [
    "import numpy as np \n",
    "a = np.random.randint(10, size=(2, 3))\n",
    "a"
   ]
  },
  {
   "cell_type": "code",
   "execution_count": 57,
   "metadata": {},
   "outputs": [
    {
     "name": "stdout",
     "output_type": "stream",
     "text": "True\nFalse\n"
    }
   ],
   "source": [
    "print(np.any(a == 9))\n",
    "print(np.any(a == 5))"
   ]
  },
  {
   "cell_type": "code",
   "execution_count": 59,
   "metadata": {},
   "outputs": [
    {
     "name": "stdout",
     "output_type": "stream",
     "text": "[ True False  True]\n[ True  True  True]\n[False  True]\n[ True  True]\n"
    }
   ],
   "source": [
    "print(np.any(a%2==0,axis=0))\n",
    "print(np.any(a%2==1,axis=0))\n",
    "print(np.any(a%2==0,axis=1))\n",
    "print(np.any(a%2==1,axis=1))"
   ]
  },
  {
   "cell_type": "code",
   "execution_count": 60,
   "metadata": {},
   "outputs": [
    {
     "name": "stdout",
     "output_type": "stream",
     "text": "[[ True False  True]]\n[[ True  True  True]]\n[[False]\n [ True]]\n[[ True]\n [ True]]\n"
    }
   ],
   "source": [
    "print(np.any(a%2==0,axis=0,keepdims=True))\n",
    "print(np.any(a%2==1,axis=0,keepdims=True))\n",
    "print(np.any(a%2==0,axis=1,keepdims=True))\n",
    "print(np.any(a%2==1,axis=1,keepdims=True))"
   ]
  },
  {
   "cell_type": "code",
   "execution_count": 62,
   "metadata": {},
   "outputs": [
    {
     "name": "stdout",
     "output_type": "stream",
     "text": "False\nTrue\n"
    }
   ],
   "source": [
    "print((a%5==0).any())\n",
    "print((a>3).any())"
   ]
  },
  {
   "cell_type": "code",
   "execution_count": 68,
   "metadata": {},
   "outputs": [
    {
     "name": "stdout",
     "output_type": "stream",
     "text": "[[2 1 9]\n [1 4 3]]\n[False False  True]\n[ True False]\n[[False False  True]]\n[[ True]\n [False]]\n"
    }
   ],
   "source": [
    "b = np.random.randint(10, size=(2,3))\n",
    "print(b)\n",
    "print((a==b).any(axis=0))\n",
    "print((a==b).any(axis=1))\n",
    "print((a==b).any(axis=0, keepdims=True))\n",
    "print((a==b).any(axis=1, keepdims=True))"
   ]
  },
  {
   "cell_type": "code",
   "execution_count": null,
   "metadata": {},
   "outputs": [],
   "source": []
  }
 ]
}
{
 "nbformat": 4,
 "nbformat_minor": 2,
 "metadata": {
  "language_info": {
   "name": "python",
   "codemirror_mode": {
    "name": "ipython",
    "version": 3
   }
  },
  "orig_nbformat": 2,
  "file_extension": ".py",
  "mimetype": "text/x-python",
  "name": "python",
  "npconvert_exporter": "python",
  "pygments_lexer": "ipython3",
  "version": 3,
  "kernelspec": {
   "name": "python37564bitbaseconda3210c909c5fa4ba18cca988f0b8f9fd8",
   "display_name": "Python 3.7.5 64-bit ('base': conda)"
  }
 },
 "cells": [
  {
   "cell_type": "code",
   "execution_count": 2,
   "metadata": {},
   "outputs": [
    {
     "name": "stdout",
     "output_type": "stream",
     "text": "[9 5 1 9 4 4 0 7 9 3 8 2 8 4 0 7 4 2 2 4]\n(array([ 0,  1,  2,  3,  4,  5,  7,  8,  9, 10, 11, 12, 13, 15, 16, 17, 18,\n       19], dtype=int64),)\n(array([ 0,  1,  2,  3,  4,  5,  7,  8,  9, 10, 11, 12, 13, 15, 16, 17, 18,\n       19], dtype=int64),)\n[9 5 1 9 4 4 7 9 3 8 2 8 4 7 4 2 2 4]\n"
    }
   ],
   "source": [
    "import numpy as np \n",
    "a = np.random.randint(0, 10,size=20)\n",
    "print(a)\n",
    "print(np.nonzero(a))\n",
    "print(a.nonzero())\n",
    "print(a[np.nonzero(a)])"
   ]
  },
  {
   "cell_type": "markdown",
   "metadata": {},
   "source": [
    "## 2D"
   ]
  },
  {
   "cell_type": "code",
   "execution_count": 7,
   "metadata": {},
   "outputs": [
    {
     "name": "stdout",
     "output_type": "stream",
     "text": "[[7 1 4 5 6]\n [9 7 3 6 6]\n [9 7 9 6 0]\n [4 1 7 1 8]]\n(array([0, 0, 0, 0, 0, 1, 1, 1, 1, 1, 2, 2, 2, 2, 3, 3, 3, 3, 3],\n      dtype=int64), array([0, 1, 2, 3, 4, 0, 1, 2, 3, 4, 0, 1, 2, 3, 0, 1, 2, 3, 4],\n      dtype=int64))\n(array([0, 0, 0, 0, 0, 1, 1, 1, 1, 1, 2, 2, 2, 2, 3, 3, 3, 3, 3],\n      dtype=int64), array([0, 1, 2, 3, 4, 0, 1, 2, 3, 4, 0, 1, 2, 3, 0, 1, 2, 3, 4],\n      dtype=int64))\n[7 1 4 5 6 9 7 3 6 6 9 7 9 6 4 1 7 1 8]\n"
    }
   ],
   "source": [
    "b = np.random.randint(0, 10, size=(4, 5))\n",
    "print(b)\n",
    "print(np.nonzero(b))\n",
    "print(b.nonzero())\n",
    "print(b[np.nonzero(b)])"
   ]
  },
  {
   "cell_type": "code",
   "execution_count": null,
   "metadata": {},
   "outputs": [],
   "source": []
  }
 ]
}
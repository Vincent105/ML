{
 "nbformat": 4,
 "nbformat_minor": 2,
 "metadata": {
  "language_info": {
   "name": "python",
   "codemirror_mode": {
    "name": "ipython",
    "version": 3
   },
   "version": "3.7.5-final"
  },
  "orig_nbformat": 2,
  "file_extension": ".py",
  "mimetype": "text/x-python",
  "name": "python",
  "npconvert_exporter": "python",
  "pygments_lexer": "ipython3",
  "version": 3,
  "kernelspec": {
   "name": "python37564bitbaseconda3210c909c5fa4ba18cca988f0b8f9fd8",
   "display_name": "Python 3.7.5 64-bit ('base': conda)"
  }
 },
 "cells": [
  {
   "cell_type": "markdown",
   "metadata": {},
   "source": [
    "### np.add()"
   ]
  },
  {
   "cell_type": "code",
   "execution_count": 13,
   "metadata": {},
   "outputs": [
    {
     "name": "stdout",
     "output_type": "stream",
     "text": "[ 2  5  8 11 14]\n[4 5 6 7 8]\n[ 2  5  8 11 14]\n[4 5 6 7 8]\n"
    }
   ],
   "source": [
    "import numpy as np \n",
    "\n",
    "a = np.array([0, 1, 2, 3, 4])\n",
    "b = np.array([2, 4, 6, 8, 10])\n",
    "print(a + b)\n",
    "print(a + 4)\n",
    "print(np.add(a, b))\n",
    "print(np.add(a, 4))"
   ]
  },
  {
   "cell_type": "markdown",
   "metadata": {},
   "source": [
    "### np.subtract()"
   ]
  },
  {
   "cell_type": "code",
   "execution_count": 14,
   "metadata": {},
   "outputs": [
    {
     "name": "stdout",
     "output_type": "stream",
     "text": "[-2 -3 -4 -5 -6]\n[2 3 4 5 6]\n[-4 -3 -2 -1  0]\n[-2 -3 -4 -5 -6]\n[-4 -3 -2 -1  0]\n"
    }
   ],
   "source": [
    "print(a - b)\n",
    "print(b - a)\n",
    "print(a - 4)\n",
    "print(np.subtract(a, b))\n",
    "print(np.subtract(a, 4))"
   ]
  },
  {
   "cell_type": "markdown",
   "metadata": {},
   "source": [
    "### np.multiply()"
   ]
  },
  {
   "cell_type": "code",
   "execution_count": 15,
   "metadata": {},
   "outputs": [
    {
     "name": "stdout",
     "output_type": "stream",
     "text": "[ 0  4 12 24 40]\n[ 0  4  8 12 16]\n[ 0  4 12 24 40]\n[ 0  4  8 12 16]\n"
    }
   ],
   "source": [
    "print(a * b)\n",
    "print(a * 4)\n",
    "print(np.multiply(a, b))\n",
    "print(np.multiply(a, 4))"
   ]
  },
  {
   "cell_type": "markdown",
   "metadata": {},
   "source": [
    "### np.divide()"
   ]
  },
  {
   "cell_type": "code",
   "execution_count": 16,
   "metadata": {},
   "outputs": [
    {
     "name": "stdout",
     "output_type": "stream",
     "text": "[0.         0.25       0.33333333 0.375      0.4       ]\n[0.   0.25 0.5  0.75 1.  ]\n[0.         0.25       0.33333333 0.375      0.4       ]\n[0.   0.25 0.5  0.75 1.  ]\n"
    }
   ],
   "source": [
    "print(a / b)\n",
    "print(a / 4)\n",
    "print(np.divide(a, b))\n",
    "print(np.divide(a, 4))"
   ]
  },
  {
   "cell_type": "markdown",
   "metadata": {},
   "source": [
    "### np.mod()"
   ]
  },
  {
   "cell_type": "code",
   "execution_count": 19,
   "metadata": {},
   "outputs": [
    {
     "name": "stdout",
     "output_type": "stream",
     "text": "[ 2  4  6  8 10]\n[0 1 2 2 3]\n[2 1 0 2 1]\n[2 1 0 2 1]\n"
    }
   ],
   "source": [
    "print(b)\n",
    "print(b // 3)\n",
    "print(b % 3)\n",
    "print(np.mod(b, 3))"
   ]
  },
  {
   "cell_type": "code",
   "execution_count": null,
   "metadata": {},
   "outputs": [],
   "source": []
  }
 ]
}
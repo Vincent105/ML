{
 "nbformat": 4,
 "nbformat_minor": 2,
 "metadata": {
  "language_info": {
   "name": "python",
   "codemirror_mode": {
    "name": "ipython",
    "version": 3
   },
   "version": "3.7.5-final"
  },
  "orig_nbformat": 2,
  "file_extension": ".py",
  "mimetype": "text/x-python",
  "name": "python",
  "npconvert_exporter": "python",
  "pygments_lexer": "ipython3",
  "version": 3,
  "kernelspec": {
   "name": "python37564bitbaseconda3210c909c5fa4ba18cca988f0b8f9fd8",
   "display_name": "Python 3.7.5 64-bit ('base': conda)"
  }
 },
 "cells": [
  {
   "cell_type": "code",
   "execution_count": 2,
   "metadata": {},
   "outputs": [
    {
     "name": "stdout",
     "output_type": "stream",
     "text": "0.0\n1.0\n0.0\n1.0\n6.123233995736766e-17\n1.633123935319537e+16\n"
    }
   ],
   "source": [
    "import numpy as np \n",
    "print(np.sin(0))\n",
    "print(np.cos(0))\n",
    "print(np.tan(0))\n",
    "print(np.sin(np.pi*0.5))\n",
    "print(np.cos(np.pi*0.5))\n",
    "print(np.tan(np.pi*0.5))"
   ]
  },
  {
   "cell_type": "code",
   "execution_count": 4,
   "metadata": {},
   "outputs": [
    {
     "name": "stdout",
     "output_type": "stream",
     "text": "0.5235987755982989\n1.0471975511965979\n0.4636476090008061\n-1.5707963267948966\n3.141592653589793\n-0.4636476090008061\n"
    }
   ],
   "source": [
    "print(np.arcsin(0.5))\n",
    "print(np.arccos(0.5))\n",
    "print(np.arctan(0.5))\n",
    "print(np.arcsin(-1))\n",
    "print(np.arccos(-1))\n",
    "print(np.arctan(-0.5))"
   ]
  },
  {
   "cell_type": "code",
   "execution_count": 6,
   "metadata": {},
   "outputs": [
    {
     "name": "stdout",
     "output_type": "stream",
     "text": "2.0943951023931953\n179.9087476710785\n"
    }
   ],
   "source": [
    "print(np.deg2rad(120))\n",
    "print(np.rad2deg(3.14))"
   ]
  }
 ]
}
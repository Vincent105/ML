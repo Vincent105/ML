{
 "nbformat": 4,
 "nbformat_minor": 2,
 "metadata": {
  "language_info": {
   "name": "python",
   "codemirror_mode": {
    "name": "ipython",
    "version": 3
   },
   "version": "3.7.5-final"
  },
  "orig_nbformat": 2,
  "file_extension": ".py",
  "mimetype": "text/x-python",
  "name": "python",
  "npconvert_exporter": "python",
  "pygments_lexer": "ipython3",
  "version": 3,
  "kernelspec": {
   "name": "python37564bitbaseconda3210c909c5fa4ba18cca988f0b8f9fd8",
   "display_name": "Python 3.7.5 64-bit ('base': conda)"
  }
 },
 "cells": [
  {
   "cell_type": "code",
   "execution_count": 3,
   "metadata": {},
   "outputs": [
    {
     "name": "stdout",
     "output_type": "stream",
     "text": "8\n8\n"
    }
   ],
   "source": [
    "import numpy as np \n",
    "print(np.power(2, 3))\n",
    "print(2**3) "
   ]
  },
  {
   "cell_type": "code",
   "execution_count": 7,
   "metadata": {},
   "outputs": [
    {
     "output_type": "stream",
     "name": "stdout",
     "text": "[ 1  2  3  4  5  6  7  8  9 10]\n[1 2 1 2 1 2 1 2 1 2]\n[  1   4   3  16   5  36   7  64   9 100]\n[  1   4   3  16   5  36   7  64   9 100]\n"
    }
   ],
   "source": [
    "a = np.arange(1, 11, 1)\n",
    "b = np.array([1, 2, 1, 2, 1, 2, 1, 2, 1, 2])\n",
    "print(a)\n",
    "print(b)\n",
    "print(np.power(a, b))\n",
    "print(a ** b)"
   ]
  },
  {
   "cell_type": "code",
   "execution_count": 9,
   "metadata": {},
   "outputs": [
    {
     "output_type": "stream",
     "name": "stdout",
     "text": "1.4142135623730951\n[1.         1.41421356 1.73205081 2.         2.23606798 2.44948974\n 2.64575131 2.82842712 3.         3.16227766]\n"
    }
   ],
   "source": [
    "print(np.sqrt(2))\n",
    "print(np.sqrt(a))"
   ]
  },
  {
   "cell_type": "code",
   "execution_count": null,
   "metadata": {},
   "outputs": [],
   "source": []
  }
 ]
}
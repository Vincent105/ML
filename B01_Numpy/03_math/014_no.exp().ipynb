{
 "nbformat": 4,
 "nbformat_minor": 2,
 "metadata": {
  "language_info": {
   "name": "python",
   "codemirror_mode": {
    "name": "ipython",
    "version": 3
   },
   "version": "3.7.5-final"
  },
  "orig_nbformat": 2,
  "file_extension": ".py",
  "mimetype": "text/x-python",
  "name": "python",
  "npconvert_exporter": "python",
  "pygments_lexer": "ipython3",
  "version": 3,
  "kernelspec": {
   "name": "python37564bitbaseconda3210c909c5fa4ba18cca988f0b8f9fd8",
   "display_name": "Python 3.7.5 64-bit ('base': conda)"
  }
 },
 "cells": [
  {
   "cell_type": "code",
   "execution_count": 1,
   "metadata": {},
   "outputs": [
    {
     "name": "stdout",
     "output_type": "stream",
     "text": "2.718281828459045\n7.38905609893065\n1.0\n"
    }
   ],
   "source": [
    "import numpy as np \n",
    "print(np.exp(1))\n",
    "print(np.exp(2))\n",
    "print(np.exp(0))"
   ]
  },
  {
   "cell_type": "code",
   "execution_count": 9,
   "metadata": {},
   "outputs": [
    {
     "name": "stdout",
     "output_type": "stream",
     "text": "1.0\n[ 1.         2.         7.3890561 10.       ]\n[0.         0.69314718 2.         2.30258509]\n[0.69314718 1.09861229 2.12692801 2.39789527]\n[1. 2. 4. 7.]\n[0.         1.         2.         2.80735492]\n[  1.  10.  20. 100.]\n[0.      1.      1.30103 2.     ]\n"
    }
   ],
   "source": [
    "print(np.log(np.e))\n",
    "\n",
    "a = np.array([1., 2., np.e**2, 10])\n",
    "print(a)\n",
    "print(np.log(a))\n",
    "print(np.log1p(a))\n",
    "\n",
    "b = np.array([1., 2., 4., 7])\n",
    "print(b)\n",
    "print(np.log2(b))\n",
    "\n",
    "c = np.array([1., 10., 20., 100])\n",
    "print(c)\n",
    "print(np.log10(c))"
   ]
  },
  {
   "cell_type": "code",
   "execution_count": 10,
   "metadata": {},
   "outputs": [
    {
     "data": {
      "text/plain": "0.5"
     },
     "execution_count": 10,
     "metadata": {},
     "output_type": "execute_result"
    }
   ],
   "source": [
    "np.log(2) / np.log(4)"
   ]
  },
  {
   "cell_type": "code",
   "execution_count": 11,
   "metadata": {},
   "outputs": [
    {
     "data": {
      "text/plain": "2.0"
     },
     "execution_count": 11,
     "metadata": {},
     "output_type": "execute_result"
    }
   ],
   "source": [
    "np.log(9) / np.log(3)"
   ]
  },
  {
   "cell_type": "code",
   "execution_count": null,
   "metadata": {},
   "outputs": [],
   "source": []
  }
 ]
}
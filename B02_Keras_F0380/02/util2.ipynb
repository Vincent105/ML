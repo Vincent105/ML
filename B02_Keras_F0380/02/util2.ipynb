{
 "cells": [
  {
   "cell_type": "code",
   "execution_count": 1,
   "metadata": {},
   "outputs": [],
   "source": [
    "from tensorflow.keras.datasets import mnist\n",
    "from tensorflow,keras.utils import to_categorical\n",
    "from tensorflow.keras.models import Sequential\n",
    "from tensorflow.keras.layers import Dense "
   ]
  },
  {
   "cell_type": "code",
   "execution_count": 4,
   "metadata": {},
   "outputs": [],
   "source": [
    "# 傳回預處理好的 MNIST 資料集： (x_train, x_test), (y_train, y_test)\n",
    "def mnist_data():\n",
    "    (train_images, train_labels),(test_images, test_labels) = mnist.load_data()\n",
    "\n",
    "    x_train = train_images.reshape((60000, 28*28))\n",
    "    x_train = x_train.astype('floast32') / 255\n",
    "\n",
    "    x_test = test_images.reshape((10000, 28*28))\n",
    "    x_test = x_test.astype('floast32') / 255    \n",
    "\n",
    "    y_train = to_categorical(train_labels)\n",
    "    y_test = to_categorical(test_labels)    \n",
    "\n",
    "    return (x_train, y_train), (x_test, y_test)"
   ]
  },
  {
   "cell_type": "code",
   "execution_count": 7,
   "metadata": {},
   "outputs": [],
   "source": [
    "def mnist_model():\n",
    "    model = Sequential([Dense(512, activation='relu', input_dim=784),Dense(10, activation='softmax')])\n",
    "    model.compile(optimizer='rmsprop', loss='categorical_crossentropy', metrics=['acc'])\n",
    "    return model"
   ]
  }
 ],
 "metadata": {
  "language_info": {
   "codemirror_mode": {
    "name": "ipython",
    "version": 3
   },
   "file_extension": ".py",
   "mimetype": "text/x-python",
   "name": "python",
   "nbconvert_exporter": "python",
   "pygments_lexer": "ipython3",
   "version": "3.7.6-final"
  },
  "orig_nbformat": 2,
  "kernelspec": {
   "name": "python37564bitbaseconda3210c909c5fa4ba18cca988f0b8f9fd8",
   "display_name": "Python 3.7.5 64-bit ('base': conda)"
  }
 },
 "nbformat": 4,
 "nbformat_minor": 2
}
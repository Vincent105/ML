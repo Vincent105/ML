{
 "cells": [
  {
   "cell_type": "markdown",
   "metadata": {},
   "source": [
    "## 神經層"
   ]
  },
  {
   "cell_type": "code",
   "execution_count": 40,
   "metadata": {},
   "outputs": [],
   "source": [
    "from tensorflow.keras.models import Sequential  \n",
    "from tensorflow.keras.layers import Dense       \n",
    "\n",
    "model_a = Sequential()\n",
    "model_a.add(Dense(512, activation='relu', input_dim=784))\n",
    "model_a.add(Dense(10, activation='softmax'))\n",
    "\n",
    "model_b = Sequential([Dense(512, activation='relu', input_dim=784),Dense(10, activation='softmax')])"
   ]
  },
  {
   "cell_type": "code",
   "execution_count": 41,
   "metadata": {},
   "outputs": [
    {
     "output_type": "stream",
     "name": "stdout",
     "text": "Model: \"sequential_8\"\n_________________________________________________________________\nLayer (type)                 Output Shape              Param #   \n=================================================================\ndense_15 (Dense)             (None, 512)               401920    \n_________________________________________________________________\ndense_16 (Dense)             (None, 10)                5130      \n=================================================================\nTotal params: 407,050\nTrainable params: 407,050\nNon-trainable params: 0\n_________________________________________________________________\n"
    }
   ],
   "source": [
    "model_a.summary()"
   ]
  },
  {
   "cell_type": "code",
   "execution_count": 42,
   "metadata": {},
   "outputs": [
    {
     "output_type": "stream",
     "name": "stdout",
     "text": "Model: \"sequential_9\"\n_________________________________________________________________\nLayer (type)                 Output Shape              Param #   \n=================================================================\ndense_17 (Dense)             (None, 512)               401920    \n_________________________________________________________________\ndense_18 (Dense)             (None, 10)                5130      \n=================================================================\nTotal params: 407,050\nTrainable params: 407,050\nNon-trainable params: 0\n_________________________________________________________________\n"
    }
   ],
   "source": [
    "model_b.summary()"
   ]
  },
  {
   "cell_type": "markdown",
   "metadata": {},
   "source": [
    "### 使用單獨的啟動函數層"
   ]
  },
  {
   "cell_type": "code",
   "execution_count": 43,
   "metadata": {},
   "outputs": [
    {
     "output_type": "stream",
     "name": "stdout",
     "text": "Model: \"sequential_10\"\n_________________________________________________________________\nLayer (type)                 Output Shape              Param #   \n=================================================================\ndense_19 (Dense)             (None, 512)               401920    \n_________________________________________________________________\nactivation_8 (Activation)    (None, 512)               0         \n_________________________________________________________________\ndense_20 (Dense)             (None, 10)                5130      \n_________________________________________________________________\nactivation_9 (Activation)    (None, 10)                0         \n=================================================================\nTotal params: 407,050\nTrainable params: 407,050\nNon-trainable params: 0\n_________________________________________________________________\n"
    }
   ],
   "source": [
    "from tensorflow.keras.models import Sequential\n",
    "from tensorflow.keras.layers import Dense\n",
    "from tensorflow.keras.layers import Activation \n",
    "\n",
    "model = Sequential([Dense(512, input_dim=784), Activation('relu'), Dense(10), Activation('softmax')])\n",
    "model.summary()"
   ]
  },
  {
   "cell_type": "markdown",
   "metadata": {},
   "source": [
    "## 模型的屬性"
   ]
  },
  {
   "cell_type": "markdown",
   "metadata": {},
   "source": [
    "### layers"
   ]
  },
  {
   "cell_type": "code",
   "execution_count": 44,
   "metadata": {},
   "outputs": [
    {
     "output_type": "stream",
     "name": "stdout",
     "text": "[<tensorflow.python.keras.layers.core.Dense object at 0x0000024DCBACA648>, <tensorflow.python.keras.layers.core.Activation object at 0x0000024DCB4B4A08>, <tensorflow.python.keras.layers.core.Dense object at 0x0000024DCB5EE448>, <tensorflow.python.keras.layers.core.Activation object at 0x0000024DCBA17808>]\n<tensorflow.python.keras.layers.core.Dense object at 0x0000024DCB5EE448>\ndense_20\n"
    }
   ],
   "source": [
    "print(model.layers)\n",
    "print(model.layers[2])\n",
    "print(model.layers[2].name)"
   ]
  },
  {
   "cell_type": "markdown",
   "metadata": {},
   "source": [
    "### inputs outputs"
   ]
  },
  {
   "cell_type": "code",
   "execution_count": 45,
   "metadata": {},
   "outputs": [
    {
     "output_type": "stream",
     "name": "stdout",
     "text": "[<tf.Tensor 'dense_19_input:0' shape=(None, 784) dtype=float32>]\n[<tf.Tensor 'activation_9/Identity:0' shape=(None, 10) dtype=float32>]\n"
    }
   ],
   "source": [
    "print(model.inputs)\n",
    "print(model.outputs)"
   ]
  },
  {
   "cell_type": "code",
   "execution_count": 48,
   "metadata": {},
   "outputs": [
    {
     "output_type": "execute_result",
     "data": {
      "text/plain": "'Img'"
     },
     "metadata": {},
     "execution_count": 48
    }
   ],
   "source": [
    "# print(model.get_layer('dense_13'))\n",
    "d = Dense(8 , name='Img')\n",
    "d.name"
   ]
  },
  {
   "cell_type": "markdown",
   "metadata": {},
   "source": [
    "### pop()"
   ]
  },
  {
   "cell_type": "code",
   "execution_count": 49,
   "metadata": {},
   "outputs": [
    {
     "output_type": "execute_result",
     "data": {
      "text/plain": "[<tensorflow.python.keras.layers.core.Dense at 0x24dcbaca648>,\n <tensorflow.python.keras.layers.core.Activation at 0x24dcb4b4a08>,\n <tensorflow.python.keras.layers.core.Dense at 0x24dcb5ee448>,\n <tensorflow.python.keras.layers.core.Activation at 0x24dcba17808>]"
     },
     "metadata": {},
     "execution_count": 49
    }
   ],
   "source": [
    "print(model.layers)\n",
    "model.pop()\n",
    "model.pop()\n",
    "print(model.layers)"
   ]
  }
 ],
 "metadata": {
  "language_info": {
   "name": "python",
   "codemirror_mode": {
    "name": "ipython",
    "version": 3
   },
   "version": "3.7.6-final"
  },
  "orig_nbformat": 2,
  "file_extension": ".py",
  "mimetype": "text/x-python",
  "name": "python",
  "npconvert_exporter": "python",
  "pygments_lexer": "ipython3",
  "version": 3,
  "kernelspec": {
   "name": "python37564bitbaseconda3210c909c5fa4ba18cca988f0b8f9fd8",
   "display_name": "Python 3.7.5 64-bit ('base': conda)"
  }
 },
 "nbformat": 4,
 "nbformat_minor": 2
}
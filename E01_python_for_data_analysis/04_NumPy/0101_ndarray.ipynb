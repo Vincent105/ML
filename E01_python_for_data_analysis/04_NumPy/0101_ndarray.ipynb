{
 "nbformat": 4,
 "nbformat_minor": 2,
 "metadata": {
  "language_info": {
   "name": "python",
   "codemirror_mode": {
    "name": "ipython",
    "version": 3
   },
   "version": "3.7.4-final"
  },
  "orig_nbformat": 2,
  "file_extension": ".py",
  "mimetype": "text/x-python",
  "name": "python",
  "npconvert_exporter": "python",
  "pygments_lexer": "ipython3",
  "version": 3,
  "kernelspec": {
   "name": "python3",
   "display_name": "Python 3"
  }
 },
 "cells": [
  {
   "cell_type": "code",
   "execution_count": 6,
   "metadata": {},
   "outputs": [
    {
     "name": "stdout",
     "output_type": "stream",
     "text": "[[ 0.29547156  0.8961533  -0.11164185]\n [-0.66632842  0.9139601  -0.84813302]]\n[[ 2.95471557  8.96153303 -1.11641853]\n [-6.66328419  9.13960104 -8.48133019]]\n[[ 0.59094311  1.79230661 -0.22328371]\n [-1.33265684  1.82792021 -1.69626604]]\n(2, 3)\nfloat64\n"
    }
   ],
   "source": [
    "import numpy as np \n",
    "\n",
    "# Generate some random data\n",
    "data = np.random.randn(2, 3)\n",
    "print(data)\n",
    "print(data * 10)\n",
    "print(data + data)\n",
    "\n",
    "# 每個陣列都有一個表示各緯度大小的元祖(shape)\n",
    "print(data.shape)\n",
    "print(data.dtype)"
   ]
  },
  {
   "cell_type": "markdown",
   "metadata": {},
   "source": [
    "## Create ndarray"
   ]
  },
  {
   "cell_type": "code",
   "execution_count": 8,
   "metadata": {},
   "outputs": [
    {
     "data": {
      "text/plain": "array([6. , 7.5, 8. , 0. , 1. ])"
     },
     "execution_count": 8,
     "metadata": {},
     "output_type": "execute_result"
    }
   ],
   "source": [
    "data1 = [6, 7.5, 8, 0, 1]\n",
    "arr1 = np.array(data1)\n",
    "arr1"
   ]
  },
  {
   "cell_type": "code",
   "execution_count": 9,
   "metadata": {},
   "outputs": [
    {
     "data": {
      "text/plain": "array([[1, 2, 3, 4],\n       [5, 6, 7, 8]])"
     },
     "execution_count": 9,
     "metadata": {},
     "output_type": "execute_result"
    }
   ],
   "source": [
    "data2 = [[1, 2, 3, 4], [5, 6, 7, 8]]\n",
    "arr2 = np.array(data2)\n",
    "arr2"
   ]
  },
  {
   "cell_type": "code",
   "execution_count": 15,
   "metadata": {},
   "outputs": [
    {
     "name": "stdout",
     "output_type": "stream",
     "text": "2\n(2, 4)\nint32\n"
    }
   ],
   "source": [
    "# method (ndim & shape)\n",
    "print(arr2.ndim)\n",
    "print(arr2.shape)\n",
    "print(arr2.dtype)"
   ]
  },
  {
   "cell_type": "code",
   "execution_count": null,
   "metadata": {},
   "outputs": [],
   "source": []
  }
 ]
}